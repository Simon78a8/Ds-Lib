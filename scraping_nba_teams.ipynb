{
 "cells": [
  {
   "cell_type": "markdown",
   "id": "1aebdaf7",
   "metadata": {},
   "source": [
    "## Scraping NBA  Teams data"
   ]
  },
  {
   "cell_type": "markdown",
   "id": "16c044dc",
   "metadata": {},
   "source": [
    "###   In this project we are going to scrape the following url with its relevent year formated: \n",
    "url : https://www.basketball-reference.com/leagues/NBA_2020_standings.html\n",
    "\n",
    "We want to obtain the standings for basketball teams in the relevant years.From 1991 to 2021.\n",
    "\n",
    "We will use the requests library to get the relevant pages."
   ]
  },
  {
   "cell_type": "code",
   "execution_count": 5,
   "id": "40784891",
   "metadata": {},
   "outputs": [],
   "source": [
    "import requests #import library"
   ]
  },
  {
   "cell_type": "code",
   "execution_count": 2,
   "id": "141d43e6",
   "metadata": {},
   "outputs": [],
   "source": [
    "team_stat_url = 'https://www.basketball-reference.com/leagues/NBA_{}_standings.html'"
   ]
  },
  {
   "cell_type": "code",
   "execution_count": 5,
   "id": "c0726f0c",
   "metadata": {},
   "outputs": [],
   "source": [
    "years = list(range(1991, 2021))"
   ]
  },
  {
   "cell_type": "code",
   "execution_count": 6,
   "id": "64351bc0",
   "metadata": {},
   "outputs": [],
   "source": [
    "for year in years:\n",
    "    url = team_stat_url.format(year)\n",
    "    data = requests.get(url)\n",
    "\n",
    "    with open('team/{}.html'.format(year), 'w+', encoding='utf-8') as f:  # write pages to file  \n",
    "        f.write(data.text)\n",
    "\n"
   ]
  },
  {
   "cell_type": "markdown",
   "id": "d5e6a46a",
   "metadata": {},
   "source": [
    "## Parse Data using BeautifulSoup"
   ]
  },
  {
   "cell_type": "code",
   "execution_count": 8,
   "id": "69fcabd6",
   "metadata": {},
   "outputs": [],
   "source": [
    "from bs4 import BeautifulSoup"
   ]
  },
  {
   "cell_type": "code",
   "execution_count": 10,
   "id": "de0a9962",
   "metadata": {},
   "outputs": [],
   "source": [
    "import pandas as pd"
   ]
  },
  {
   "cell_type": "code",
   "execution_count": 15,
   "id": "f851e63a",
   "metadata": {},
   "outputs": [],
   "source": [
    "dfs =[]\n",
    "for year in years:\n",
    "    with open('team/{}.html'.format(year), encoding = 'utf-8') as f:\n",
    "        page = f.read()\n",
    "    soup = BeautifulSoup(page, 'html.parser')\n",
    "    soup.find('tr', class_='thead').decompose()\n",
    "    team_table = soup.find(id='divs_standings_E')\n",
    "    team = pd.read_html(str(team_table))[0]\n",
    "    team['Year'] = year\n",
    "    team['Team'] = team['Eastern Conference']\n",
    "    del team['Eastern Conference']\n",
    "    dfs.append(team)\n",
    "\n",
    "    soup = BeautifulSoup(page, 'html.parser')\n",
    "    soup.find('tr', class_='thead').decompose()\n",
    "    team_table = soup.find(id='divs_standings_W')\n",
    "    team = pd.read_html(str(team_table))[0]\n",
    "    team['Year'] = year\n",
    "    team['Team'] = team['Western Conference']\n",
    "    del team['Western Conference']\n",
    "    dfs.append(team)\n"
   ]
  },
  {
   "cell_type": "code",
   "execution_count": 16,
   "id": "590642d1",
   "metadata": {},
   "outputs": [],
   "source": [
    "teams  = pd.concat(dfs)"
   ]
  },
  {
   "cell_type": "code",
   "execution_count": 17,
   "id": "b65ea92b",
   "metadata": {},
   "outputs": [
    {
     "data": {
      "text/html": [
       "<div>\n",
       "<style scoped>\n",
       "    .dataframe tbody tr th:only-of-type {\n",
       "        vertical-align: middle;\n",
       "    }\n",
       "\n",
       "    .dataframe tbody tr th {\n",
       "        vertical-align: top;\n",
       "    }\n",
       "\n",
       "    .dataframe thead th {\n",
       "        text-align: right;\n",
       "    }\n",
       "</style>\n",
       "<table border=\"1\" class=\"dataframe\">\n",
       "  <thead>\n",
       "    <tr style=\"text-align: right;\">\n",
       "      <th></th>\n",
       "      <th>W</th>\n",
       "      <th>L</th>\n",
       "      <th>W/L%</th>\n",
       "      <th>GB</th>\n",
       "      <th>PS/G</th>\n",
       "      <th>PA/G</th>\n",
       "      <th>SRS</th>\n",
       "      <th>Year</th>\n",
       "      <th>Team</th>\n",
       "    </tr>\n",
       "  </thead>\n",
       "  <tbody>\n",
       "    <tr>\n",
       "      <th>0</th>\n",
       "      <td>56</td>\n",
       "      <td>26</td>\n",
       "      <td>.683</td>\n",
       "      <td>—</td>\n",
       "      <td>111.5</td>\n",
       "      <td>105.7</td>\n",
       "      <td>5.22</td>\n",
       "      <td>1991</td>\n",
       "      <td>Boston Celtics*</td>\n",
       "    </tr>\n",
       "    <tr>\n",
       "      <th>1</th>\n",
       "      <td>44</td>\n",
       "      <td>38</td>\n",
       "      <td>.537</td>\n",
       "      <td>12.0</td>\n",
       "      <td>105.4</td>\n",
       "      <td>105.6</td>\n",
       "      <td>-0.39</td>\n",
       "      <td>1991</td>\n",
       "      <td>Philadelphia 76ers*</td>\n",
       "    </tr>\n",
       "    <tr>\n",
       "      <th>2</th>\n",
       "      <td>39</td>\n",
       "      <td>43</td>\n",
       "      <td>.476</td>\n",
       "      <td>17.0</td>\n",
       "      <td>103.1</td>\n",
       "      <td>103.3</td>\n",
       "      <td>-0.43</td>\n",
       "      <td>1991</td>\n",
       "      <td>New York Knicks*</td>\n",
       "    </tr>\n",
       "    <tr>\n",
       "      <th>3</th>\n",
       "      <td>30</td>\n",
       "      <td>52</td>\n",
       "      <td>.366</td>\n",
       "      <td>26.0</td>\n",
       "      <td>101.4</td>\n",
       "      <td>106.4</td>\n",
       "      <td>-4.84</td>\n",
       "      <td>1991</td>\n",
       "      <td>Washington Bullets</td>\n",
       "    </tr>\n",
       "    <tr>\n",
       "      <th>4</th>\n",
       "      <td>26</td>\n",
       "      <td>56</td>\n",
       "      <td>.317</td>\n",
       "      <td>30.0</td>\n",
       "      <td>102.9</td>\n",
       "      <td>107.5</td>\n",
       "      <td>-4.53</td>\n",
       "      <td>1991</td>\n",
       "      <td>New Jersey Nets</td>\n",
       "    </tr>\n",
       "    <tr>\n",
       "      <th>...</th>\n",
       "      <td>...</td>\n",
       "      <td>...</td>\n",
       "      <td>...</td>\n",
       "      <td>...</td>\n",
       "      <td>...</td>\n",
       "      <td>...</td>\n",
       "      <td>...</td>\n",
       "      <td>...</td>\n",
       "      <td>...</td>\n",
       "    </tr>\n",
       "    <tr>\n",
       "      <th>13</th>\n",
       "      <td>44</td>\n",
       "      <td>28</td>\n",
       "      <td>.611</td>\n",
       "      <td>—</td>\n",
       "      <td>117.8</td>\n",
       "      <td>114.8</td>\n",
       "      <td>3.13</td>\n",
       "      <td>2020</td>\n",
       "      <td>Houston Rockets*</td>\n",
       "    </tr>\n",
       "    <tr>\n",
       "      <th>14</th>\n",
       "      <td>43</td>\n",
       "      <td>32</td>\n",
       "      <td>.573</td>\n",
       "      <td>2.5</td>\n",
       "      <td>117.0</td>\n",
       "      <td>112.1</td>\n",
       "      <td>4.87</td>\n",
       "      <td>2020</td>\n",
       "      <td>Dallas Mavericks*</td>\n",
       "    </tr>\n",
       "    <tr>\n",
       "      <th>15</th>\n",
       "      <td>34</td>\n",
       "      <td>39</td>\n",
       "      <td>.466</td>\n",
       "      <td>10.5</td>\n",
       "      <td>112.6</td>\n",
       "      <td>113.7</td>\n",
       "      <td>-0.91</td>\n",
       "      <td>2020</td>\n",
       "      <td>Memphis Grizzlies</td>\n",
       "    </tr>\n",
       "    <tr>\n",
       "      <th>16</th>\n",
       "      <td>32</td>\n",
       "      <td>39</td>\n",
       "      <td>.451</td>\n",
       "      <td>11.5</td>\n",
       "      <td>114.1</td>\n",
       "      <td>115.2</td>\n",
       "      <td>-0.65</td>\n",
       "      <td>2020</td>\n",
       "      <td>San Antonio Spurs</td>\n",
       "    </tr>\n",
       "    <tr>\n",
       "      <th>17</th>\n",
       "      <td>30</td>\n",
       "      <td>42</td>\n",
       "      <td>.417</td>\n",
       "      <td>14.0</td>\n",
       "      <td>115.8</td>\n",
       "      <td>117.1</td>\n",
       "      <td>-0.55</td>\n",
       "      <td>2020</td>\n",
       "      <td>New Orleans Pelicans</td>\n",
       "    </tr>\n",
       "  </tbody>\n",
       "</table>\n",
       "<p>998 rows × 9 columns</p>\n",
       "</div>"
      ],
      "text/plain": [
       "     W   L  W/L%    GB   PS/G   PA/G    SRS  Year                  Team\n",
       "0   56  26  .683     —  111.5  105.7   5.22  1991       Boston Celtics*\n",
       "1   44  38  .537  12.0  105.4  105.6  -0.39  1991   Philadelphia 76ers*\n",
       "2   39  43  .476  17.0  103.1  103.3  -0.43  1991      New York Knicks*\n",
       "3   30  52  .366  26.0  101.4  106.4  -4.84  1991    Washington Bullets\n",
       "4   26  56  .317  30.0  102.9  107.5  -4.53  1991       New Jersey Nets\n",
       "..  ..  ..   ...   ...    ...    ...    ...   ...                   ...\n",
       "13  44  28  .611     —  117.8  114.8   3.13  2020      Houston Rockets*\n",
       "14  43  32  .573   2.5  117.0  112.1   4.87  2020     Dallas Mavericks*\n",
       "15  34  39  .466  10.5  112.6  113.7  -0.91  2020     Memphis Grizzlies\n",
       "16  32  39  .451  11.5  114.1  115.2  -0.65  2020     San Antonio Spurs\n",
       "17  30  42  .417  14.0  115.8  117.1  -0.55  2020  New Orleans Pelicans\n",
       "\n",
       "[998 rows x 9 columns]"
      ]
     },
     "execution_count": 17,
     "metadata": {},
     "output_type": "execute_result"
    }
   ],
   "source": [
    "teams"
   ]
  },
  {
   "cell_type": "code",
   "execution_count": 18,
   "id": "3233e0ad",
   "metadata": {},
   "outputs": [],
   "source": [
    "teams.to_csv('team.csv')"
   ]
  },
  {
   "cell_type": "code",
   "execution_count": null,
   "id": "53a86fda",
   "metadata": {},
   "outputs": [],
   "source": []
  }
 ],
 "metadata": {
  "kernelspec": {
   "display_name": "Python 3",
   "language": "python",
   "name": "python3"
  },
  "language_info": {
   "codemirror_mode": {
    "name": "ipython",
    "version": 3
   },
   "file_extension": ".py",
   "mimetype": "text/x-python",
   "name": "python",
   "nbconvert_exporter": "python",
   "pygments_lexer": "ipython3",
   "version": "3.8.8"
  }
 },
 "nbformat": 4,
 "nbformat_minor": 5
}
