{
 "cells": [
  {
   "cell_type": "markdown",
   "id": "52a05910",
   "metadata": {},
   "source": [
    "## New York City BikeShare Dataset Analysis"
   ]
  },
  {
   "cell_type": "markdown",
   "id": "1b68a107",
   "metadata": {},
   "source": [
    "## The aim of Our analysis is to:\n",
    "\n",
    "(i) Predict the gender of riders.\n",
    "\n",
    "(ii) Predict the age of riders.\n",
    "\n",
    "(iii) Predict what kind of user is our customer.\n",
    "\n",
    " #### ANSWER the following questions: \n",
    " (i)What is the  average duration of most bikerides ?\n",
    " \n",
    " (ii) Which are the top busy months ?\n",
    " \n",
    " (iii) "
   ]
  },
  {
   "cell_type": "code",
   "execution_count": 1,
   "id": "cb01a574",
   "metadata": {},
   "outputs": [],
   "source": [
    "import pandas as pd"
   ]
  },
  {
   "cell_type": "code",
   "execution_count": 2,
   "id": "bcbe57fb",
   "metadata": {},
   "outputs": [],
   "source": [
    "df = pd.read_csv('c://Users//simon//Downloads//NYC-BikeShare-2015-2017-combined.csv')"
   ]
  },
  {
   "cell_type": "markdown",
   "id": "03784537",
   "metadata": {},
   "source": [
    "### PART 1:  Data Preparation\n",
    "\n",
    "--- load file using pandas.\n",
    "\n",
    "--- Check information of individual columns.\n"
   ]
  },
  {
   "cell_type": "code",
   "execution_count": 3,
   "id": "6611f03f",
   "metadata": {},
   "outputs": [
    {
     "name": "stdout",
     "output_type": "stream",
     "text": [
      "<class 'pandas.core.frame.DataFrame'>\n",
      "RangeIndex: 735502 entries, 0 to 735501\n",
      "Data columns (total 17 columns):\n",
      " #   Column                   Non-Null Count   Dtype  \n",
      "---  ------                   --------------   -----  \n",
      " 0   Unnamed: 0               735502 non-null  int64  \n",
      " 1   Trip Duration            735502 non-null  int64  \n",
      " 2   Start Time               735502 non-null  object \n",
      " 3   Stop Time                735502 non-null  object \n",
      " 4   Start Station ID         735502 non-null  int64  \n",
      " 5   Start Station Name       735502 non-null  object \n",
      " 6   Start Station Latitude   735502 non-null  float64\n",
      " 7   Start Station Longitude  735502 non-null  float64\n",
      " 8   End Station ID           735502 non-null  int64  \n",
      " 9   End Station Name         735502 non-null  object \n",
      " 10  End Station Latitude     735502 non-null  float64\n",
      " 11  End Station Longitude    735502 non-null  float64\n",
      " 12  Bike ID                  735502 non-null  int64  \n",
      " 13  User Type                735502 non-null  object \n",
      " 14  Birth Year               735502 non-null  float64\n",
      " 15  Gender                   735502 non-null  int64  \n",
      " 16  Trip_Duration_in_min     735502 non-null  int64  \n",
      "dtypes: float64(5), int64(7), object(5)\n",
      "memory usage: 95.4+ MB\n"
     ]
    }
   ],
   "source": [
    "df.info()"
   ]
  },
  {
   "cell_type": "code",
   "execution_count": 4,
   "id": "a3d001ce",
   "metadata": {},
   "outputs": [
    {
     "data": {
      "text/plain": [
       "array(['Subscriber', 'Customer'], dtype=object)"
      ]
     },
     "execution_count": 4,
     "metadata": {},
     "output_type": "execute_result"
    }
   ],
   "source": [
    "df['User Type'].unique()"
   ]
  },
  {
   "cell_type": "markdown",
   "id": "b02afd96",
   "metadata": {},
   "source": [
    "WE have two kinds of users \n",
    "\n",
    "1. Subscriber (subscribed to our service)\n",
    "\n",
    "2. Customer  (non-subscribers)"
   ]
  },
  {
   "cell_type": "code",
   "execution_count": 5,
   "id": "32103f7a",
   "metadata": {},
   "outputs": [
    {
     "data": {
      "text/plain": [
       "1    525608\n",
       "2    150426\n",
       "0     59468\n",
       "Name: Gender, dtype: int64"
      ]
     },
     "execution_count": 5,
     "metadata": {},
     "output_type": "execute_result"
    }
   ],
   "source": [
    "df['Gender'].value_counts()"
   ]
  },
  {
   "cell_type": "code",
   "execution_count": 6,
   "id": "d3e7b7b6",
   "metadata": {},
   "outputs": [
    {
     "data": {
      "text/plain": [
       "array([1, 0, 2], dtype=int64)"
      ]
     },
     "execution_count": 6,
     "metadata": {},
     "output_type": "execute_result"
    }
   ],
   "source": [
    "df['Gender'].unique()"
   ]
  },
  {
   "cell_type": "code",
   "execution_count": 7,
   "id": "bbed9a4b",
   "metadata": {},
   "outputs": [
    {
     "data": {
      "text/plain": [
       "0          6\n",
       "1         12\n",
       "2         45\n",
       "3          5\n",
       "4          9\n",
       "          ..\n",
       "735497     4\n",
       "735498     3\n",
       "735499     3\n",
       "735500    10\n",
       "735501    11\n",
       "Name: Trip_Duration_in_min, Length: 735502, dtype: int64"
      ]
     },
     "execution_count": 7,
     "metadata": {},
     "output_type": "execute_result"
    }
   ],
   "source": [
    "df['Trip_Duration_in_min']"
   ]
  },
  {
   "cell_type": "code",
   "execution_count": 8,
   "id": "71007d9c",
   "metadata": {},
   "outputs": [
    {
     "data": {
      "text/html": [
       "<div>\n",
       "<style scoped>\n",
       "    .dataframe tbody tr th:only-of-type {\n",
       "        vertical-align: middle;\n",
       "    }\n",
       "\n",
       "    .dataframe tbody tr th {\n",
       "        vertical-align: top;\n",
       "    }\n",
       "\n",
       "    .dataframe thead th {\n",
       "        text-align: right;\n",
       "    }\n",
       "</style>\n",
       "<table border=\"1\" class=\"dataframe\">\n",
       "  <thead>\n",
       "    <tr style=\"text-align: right;\">\n",
       "      <th></th>\n",
       "      <th>Unnamed: 0</th>\n",
       "      <th>Trip Duration</th>\n",
       "      <th>Start Time</th>\n",
       "      <th>Stop Time</th>\n",
       "      <th>Start Station ID</th>\n",
       "      <th>Start Station Name</th>\n",
       "      <th>Start Station Latitude</th>\n",
       "      <th>Start Station Longitude</th>\n",
       "      <th>End Station ID</th>\n",
       "      <th>End Station Name</th>\n",
       "      <th>End Station Latitude</th>\n",
       "      <th>End Station Longitude</th>\n",
       "      <th>Bike ID</th>\n",
       "      <th>User Type</th>\n",
       "      <th>Birth Year</th>\n",
       "      <th>Gender</th>\n",
       "      <th>Trip_Duration_in_min</th>\n",
       "    </tr>\n",
       "  </thead>\n",
       "  <tbody>\n",
       "    <tr>\n",
       "      <th>283633</th>\n",
       "      <td>17863</td>\n",
       "      <td>3003</td>\n",
       "      <td>2016-10-18 12:52:34</td>\n",
       "      <td>2016-10-18 13:42:38</td>\n",
       "      <td>3220</td>\n",
       "      <td>5 Corners Library</td>\n",
       "      <td>40.734961</td>\n",
       "      <td>-74.059503</td>\n",
       "      <td>3199</td>\n",
       "      <td>Newport Pkwy</td>\n",
       "      <td>40.728745</td>\n",
       "      <td>-74.032108</td>\n",
       "      <td>24627</td>\n",
       "      <td>Subscriber</td>\n",
       "      <td>1961.0</td>\n",
       "      <td>2</td>\n",
       "      <td>50</td>\n",
       "    </tr>\n",
       "    <tr>\n",
       "      <th>592297</th>\n",
       "      <td>20332</td>\n",
       "      <td>479</td>\n",
       "      <td>2016-09-19 12:33:59</td>\n",
       "      <td>2016-09-19 12:41:59</td>\n",
       "      <td>3220</td>\n",
       "      <td>5 Corners Library</td>\n",
       "      <td>40.734961</td>\n",
       "      <td>-74.059503</td>\n",
       "      <td>3207</td>\n",
       "      <td>Oakland Ave</td>\n",
       "      <td>40.737604</td>\n",
       "      <td>-74.052478</td>\n",
       "      <td>24724</td>\n",
       "      <td>Subscriber</td>\n",
       "      <td>1991.0</td>\n",
       "      <td>1</td>\n",
       "      <td>8</td>\n",
       "    </tr>\n",
       "    <tr>\n",
       "      <th>592295</th>\n",
       "      <td>20330</td>\n",
       "      <td>396</td>\n",
       "      <td>2016-09-19 12:23:06</td>\n",
       "      <td>2016-09-19 12:29:43</td>\n",
       "      <td>3220</td>\n",
       "      <td>5 Corners Library</td>\n",
       "      <td>40.734961</td>\n",
       "      <td>-74.059503</td>\n",
       "      <td>3207</td>\n",
       "      <td>Oakland Ave</td>\n",
       "      <td>40.737604</td>\n",
       "      <td>-74.052478</td>\n",
       "      <td>24631</td>\n",
       "      <td>Subscriber</td>\n",
       "      <td>1991.0</td>\n",
       "      <td>1</td>\n",
       "      <td>7</td>\n",
       "    </tr>\n",
       "    <tr>\n",
       "      <th>269540</th>\n",
       "      <td>3770</td>\n",
       "      <td>615</td>\n",
       "      <td>2016-10-04 20:21:55</td>\n",
       "      <td>2016-10-04 20:32:10</td>\n",
       "      <td>3220</td>\n",
       "      <td>5 Corners Library</td>\n",
       "      <td>40.734961</td>\n",
       "      <td>-74.059503</td>\n",
       "      <td>3212</td>\n",
       "      <td>Christ Hospital</td>\n",
       "      <td>40.734786</td>\n",
       "      <td>-74.050444</td>\n",
       "      <td>26162</td>\n",
       "      <td>Subscriber</td>\n",
       "      <td>1981.0</td>\n",
       "      <td>1</td>\n",
       "      <td>10</td>\n",
       "    </tr>\n",
       "    <tr>\n",
       "      <th>71271</th>\n",
       "      <td>13479</td>\n",
       "      <td>175</td>\n",
       "      <td>2015-11-25 20:17:55</td>\n",
       "      <td>2015-11-25 20:20:51</td>\n",
       "      <td>3220</td>\n",
       "      <td>5 Corners Library</td>\n",
       "      <td>40.734961</td>\n",
       "      <td>-74.059503</td>\n",
       "      <td>3207</td>\n",
       "      <td>Oakland Ave</td>\n",
       "      <td>40.737604</td>\n",
       "      <td>-74.052478</td>\n",
       "      <td>24468</td>\n",
       "      <td>Subscriber</td>\n",
       "      <td>1987.0</td>\n",
       "      <td>1</td>\n",
       "      <td>3</td>\n",
       "    </tr>\n",
       "    <tr>\n",
       "      <th>365534</th>\n",
       "      <td>6255</td>\n",
       "      <td>234</td>\n",
       "      <td>2017-03-13 16:03:32</td>\n",
       "      <td>2017-03-13 16:07:26</td>\n",
       "      <td>3220</td>\n",
       "      <td>5 Corners Library</td>\n",
       "      <td>40.734961</td>\n",
       "      <td>-74.059503</td>\n",
       "      <td>3201</td>\n",
       "      <td>Dey St</td>\n",
       "      <td>40.737711</td>\n",
       "      <td>-74.066921</td>\n",
       "      <td>24648</td>\n",
       "      <td>Subscriber</td>\n",
       "      <td>1963.0</td>\n",
       "      <td>1</td>\n",
       "      <td>4</td>\n",
       "    </tr>\n",
       "    <tr>\n",
       "      <th>592219</th>\n",
       "      <td>20254</td>\n",
       "      <td>630</td>\n",
       "      <td>2016-09-19 08:23:28</td>\n",
       "      <td>2016-09-19 08:33:59</td>\n",
       "      <td>3220</td>\n",
       "      <td>5 Corners Library</td>\n",
       "      <td>40.734961</td>\n",
       "      <td>-74.059503</td>\n",
       "      <td>3187</td>\n",
       "      <td>Warren St</td>\n",
       "      <td>40.721124</td>\n",
       "      <td>-74.038051</td>\n",
       "      <td>24615</td>\n",
       "      <td>Subscriber</td>\n",
       "      <td>1991.0</td>\n",
       "      <td>1</td>\n",
       "      <td>10</td>\n",
       "    </tr>\n",
       "    <tr>\n",
       "      <th>217901</th>\n",
       "      <td>19705</td>\n",
       "      <td>519</td>\n",
       "      <td>2016-08-19 07:58:38</td>\n",
       "      <td>2016-08-19 08:07:17</td>\n",
       "      <td>3220</td>\n",
       "      <td>5 Corners Library</td>\n",
       "      <td>40.734961</td>\n",
       "      <td>-74.059503</td>\n",
       "      <td>3187</td>\n",
       "      <td>Warren St</td>\n",
       "      <td>40.721124</td>\n",
       "      <td>-74.038051</td>\n",
       "      <td>24635</td>\n",
       "      <td>Subscriber</td>\n",
       "      <td>1991.0</td>\n",
       "      <td>1</td>\n",
       "      <td>9</td>\n",
       "    </tr>\n",
       "    <tr>\n",
       "      <th>18680</th>\n",
       "      <td>18680</td>\n",
       "      <td>356</td>\n",
       "      <td>2015-10-30 20:01:38</td>\n",
       "      <td>2015-10-30 20:07:35</td>\n",
       "      <td>3220</td>\n",
       "      <td>5 Corners Library</td>\n",
       "      <td>40.734961</td>\n",
       "      <td>-74.059503</td>\n",
       "      <td>3207</td>\n",
       "      <td>Oakland Ave</td>\n",
       "      <td>40.737604</td>\n",
       "      <td>-74.052478</td>\n",
       "      <td>24470</td>\n",
       "      <td>Subscriber</td>\n",
       "      <td>1954.0</td>\n",
       "      <td>1</td>\n",
       "      <td>6</td>\n",
       "    </tr>\n",
       "    <tr>\n",
       "      <th>592059</th>\n",
       "      <td>20094</td>\n",
       "      <td>665</td>\n",
       "      <td>2016-09-18 22:10:00</td>\n",
       "      <td>2016-09-18 22:21:05</td>\n",
       "      <td>3220</td>\n",
       "      <td>5 Corners Library</td>\n",
       "      <td>40.734961</td>\n",
       "      <td>-74.059503</td>\n",
       "      <td>3272</td>\n",
       "      <td>Jersey &amp; 3rd</td>\n",
       "      <td>40.723332</td>\n",
       "      <td>-74.045953</td>\n",
       "      <td>26223</td>\n",
       "      <td>Subscriber</td>\n",
       "      <td>1989.0</td>\n",
       "      <td>1</td>\n",
       "      <td>11</td>\n",
       "    </tr>\n",
       "    <tr>\n",
       "      <th>592011</th>\n",
       "      <td>20046</td>\n",
       "      <td>1077</td>\n",
       "      <td>2016-09-18 20:36:10</td>\n",
       "      <td>2016-09-18 20:54:07</td>\n",
       "      <td>3220</td>\n",
       "      <td>5 Corners Library</td>\n",
       "      <td>40.734961</td>\n",
       "      <td>-74.059503</td>\n",
       "      <td>3210</td>\n",
       "      <td>Pershing Field</td>\n",
       "      <td>40.742677</td>\n",
       "      <td>-74.051789</td>\n",
       "      <td>24417</td>\n",
       "      <td>Subscriber</td>\n",
       "      <td>1983.0</td>\n",
       "      <td>1</td>\n",
       "      <td>18</td>\n",
       "    </tr>\n",
       "    <tr>\n",
       "      <th>163750</th>\n",
       "      <td>13937</td>\n",
       "      <td>365</td>\n",
       "      <td>2016-06-19 13:21:07</td>\n",
       "      <td>2016-06-19 13:27:12</td>\n",
       "      <td>3220</td>\n",
       "      <td>5 Corners Library</td>\n",
       "      <td>40.734961</td>\n",
       "      <td>-74.059503</td>\n",
       "      <td>3225</td>\n",
       "      <td>Baldwin at Montgomery</td>\n",
       "      <td>40.723659</td>\n",
       "      <td>-74.064194</td>\n",
       "      <td>24684</td>\n",
       "      <td>Subscriber</td>\n",
       "      <td>1985.0</td>\n",
       "      <td>1</td>\n",
       "      <td>6</td>\n",
       "    </tr>\n",
       "    <tr>\n",
       "      <th>365706</th>\n",
       "      <td>6427</td>\n",
       "      <td>574</td>\n",
       "      <td>2017-03-13 19:36:50</td>\n",
       "      <td>2017-03-13 19:46:24</td>\n",
       "      <td>3220</td>\n",
       "      <td>5 Corners Library</td>\n",
       "      <td>40.734961</td>\n",
       "      <td>-74.059503</td>\n",
       "      <td>3197</td>\n",
       "      <td>North St</td>\n",
       "      <td>40.752559</td>\n",
       "      <td>-74.044725</td>\n",
       "      <td>26254</td>\n",
       "      <td>Subscriber</td>\n",
       "      <td>1978.0</td>\n",
       "      <td>1</td>\n",
       "      <td>10</td>\n",
       "    </tr>\n",
       "    <tr>\n",
       "      <th>71266</th>\n",
       "      <td>13474</td>\n",
       "      <td>335</td>\n",
       "      <td>2015-11-25 20:02:01</td>\n",
       "      <td>2015-11-25 20:07:37</td>\n",
       "      <td>3220</td>\n",
       "      <td>5 Corners Library</td>\n",
       "      <td>40.734961</td>\n",
       "      <td>-74.059503</td>\n",
       "      <td>3207</td>\n",
       "      <td>Oakland Ave</td>\n",
       "      <td>40.737604</td>\n",
       "      <td>-74.052478</td>\n",
       "      <td>24582</td>\n",
       "      <td>Subscriber</td>\n",
       "      <td>1977.0</td>\n",
       "      <td>1</td>\n",
       "      <td>6</td>\n",
       "    </tr>\n",
       "    <tr>\n",
       "      <th>365734</th>\n",
       "      <td>6455</td>\n",
       "      <td>330</td>\n",
       "      <td>2017-03-13 20:26:00</td>\n",
       "      <td>2017-03-13 20:31:31</td>\n",
       "      <td>3220</td>\n",
       "      <td>5 Corners Library</td>\n",
       "      <td>40.734961</td>\n",
       "      <td>-74.059503</td>\n",
       "      <td>3210</td>\n",
       "      <td>Pershing Field</td>\n",
       "      <td>40.742677</td>\n",
       "      <td>-74.051789</td>\n",
       "      <td>24664</td>\n",
       "      <td>Subscriber</td>\n",
       "      <td>1992.0</td>\n",
       "      <td>1</td>\n",
       "      <td>6</td>\n",
       "    </tr>\n",
       "    <tr>\n",
       "      <th>591812</th>\n",
       "      <td>19847</td>\n",
       "      <td>797</td>\n",
       "      <td>2016-09-18 17:04:17</td>\n",
       "      <td>2016-09-18 17:17:34</td>\n",
       "      <td>3220</td>\n",
       "      <td>5 Corners Library</td>\n",
       "      <td>40.734961</td>\n",
       "      <td>-74.059503</td>\n",
       "      <td>3202</td>\n",
       "      <td>Newport PATH</td>\n",
       "      <td>40.727224</td>\n",
       "      <td>-74.033759</td>\n",
       "      <td>24613</td>\n",
       "      <td>Subscriber</td>\n",
       "      <td>1977.0</td>\n",
       "      <td>1</td>\n",
       "      <td>13</td>\n",
       "    </tr>\n",
       "    <tr>\n",
       "      <th>117178</th>\n",
       "      <td>3195</td>\n",
       "      <td>841</td>\n",
       "      <td>2016-04-09 11:00:08</td>\n",
       "      <td>2016-04-09 11:14:09</td>\n",
       "      <td>3220</td>\n",
       "      <td>5 Corners Library</td>\n",
       "      <td>40.734961</td>\n",
       "      <td>-74.059503</td>\n",
       "      <td>3188</td>\n",
       "      <td>NJCU</td>\n",
       "      <td>40.710109</td>\n",
       "      <td>-74.085849</td>\n",
       "      <td>24621</td>\n",
       "      <td>Subscriber</td>\n",
       "      <td>1978.0</td>\n",
       "      <td>1</td>\n",
       "      <td>14</td>\n",
       "    </tr>\n",
       "    <tr>\n",
       "      <th>591711</th>\n",
       "      <td>19746</td>\n",
       "      <td>232</td>\n",
       "      <td>2016-09-18 15:43:25</td>\n",
       "      <td>2016-09-18 15:47:18</td>\n",
       "      <td>3220</td>\n",
       "      <td>5 Corners Library</td>\n",
       "      <td>40.734961</td>\n",
       "      <td>-74.059503</td>\n",
       "      <td>3195</td>\n",
       "      <td>Sip Ave</td>\n",
       "      <td>40.730743</td>\n",
       "      <td>-74.063784</td>\n",
       "      <td>26304</td>\n",
       "      <td>Subscriber</td>\n",
       "      <td>1990.0</td>\n",
       "      <td>2</td>\n",
       "      <td>4</td>\n",
       "    </tr>\n",
       "    <tr>\n",
       "      <th>365761</th>\n",
       "      <td>6482</td>\n",
       "      <td>484</td>\n",
       "      <td>2017-03-13 21:44:49</td>\n",
       "      <td>2017-03-13 21:52:54</td>\n",
       "      <td>3220</td>\n",
       "      <td>5 Corners Library</td>\n",
       "      <td>40.734961</td>\n",
       "      <td>-74.059503</td>\n",
       "      <td>3210</td>\n",
       "      <td>Pershing Field</td>\n",
       "      <td>40.742677</td>\n",
       "      <td>-74.051789</td>\n",
       "      <td>26162</td>\n",
       "      <td>Subscriber</td>\n",
       "      <td>1978.0</td>\n",
       "      <td>2</td>\n",
       "      <td>8</td>\n",
       "    </tr>\n",
       "    <tr>\n",
       "      <th>591652</th>\n",
       "      <td>19687</td>\n",
       "      <td>321</td>\n",
       "      <td>2016-09-18 14:56:17</td>\n",
       "      <td>2016-09-18 15:01:38</td>\n",
       "      <td>3220</td>\n",
       "      <td>5 Corners Library</td>\n",
       "      <td>40.734961</td>\n",
       "      <td>-74.059503</td>\n",
       "      <td>3207</td>\n",
       "      <td>Oakland Ave</td>\n",
       "      <td>40.737604</td>\n",
       "      <td>-74.052478</td>\n",
       "      <td>26257</td>\n",
       "      <td>Subscriber</td>\n",
       "      <td>1974.0</td>\n",
       "      <td>1</td>\n",
       "      <td>5</td>\n",
       "    </tr>\n",
       "    <tr>\n",
       "      <th>217935</th>\n",
       "      <td>19739</td>\n",
       "      <td>760</td>\n",
       "      <td>2016-08-19 08:13:18</td>\n",
       "      <td>2016-08-19 08:25:59</td>\n",
       "      <td>3220</td>\n",
       "      <td>5 Corners Library</td>\n",
       "      <td>40.734961</td>\n",
       "      <td>-74.059503</td>\n",
       "      <td>3183</td>\n",
       "      <td>Exchange Place</td>\n",
       "      <td>40.716247</td>\n",
       "      <td>-74.033459</td>\n",
       "      <td>24478</td>\n",
       "      <td>Subscriber</td>\n",
       "      <td>1969.0</td>\n",
       "      <td>1</td>\n",
       "      <td>13</td>\n",
       "    </tr>\n",
       "    <tr>\n",
       "      <th>117209</th>\n",
       "      <td>3226</td>\n",
       "      <td>593</td>\n",
       "      <td>2016-04-09 12:26:21</td>\n",
       "      <td>2016-04-09 12:36:15</td>\n",
       "      <td>3220</td>\n",
       "      <td>5 Corners Library</td>\n",
       "      <td>40.734961</td>\n",
       "      <td>-74.059503</td>\n",
       "      <td>3215</td>\n",
       "      <td>Central Ave</td>\n",
       "      <td>40.746730</td>\n",
       "      <td>-74.049251</td>\n",
       "      <td>24621</td>\n",
       "      <td>Subscriber</td>\n",
       "      <td>1982.0</td>\n",
       "      <td>1</td>\n",
       "      <td>10</td>\n",
       "    </tr>\n",
       "    <tr>\n",
       "      <th>592306</th>\n",
       "      <td>20341</td>\n",
       "      <td>874</td>\n",
       "      <td>2016-09-19 13:16:30</td>\n",
       "      <td>2016-09-19 13:31:05</td>\n",
       "      <td>3220</td>\n",
       "      <td>5 Corners Library</td>\n",
       "      <td>40.734961</td>\n",
       "      <td>-74.059503</td>\n",
       "      <td>3197</td>\n",
       "      <td>North St</td>\n",
       "      <td>40.752559</td>\n",
       "      <td>-74.044725</td>\n",
       "      <td>26257</td>\n",
       "      <td>Subscriber</td>\n",
       "      <td>1978.0</td>\n",
       "      <td>1</td>\n",
       "      <td>15</td>\n",
       "    </tr>\n",
       "    <tr>\n",
       "      <th>592332</th>\n",
       "      <td>20367</td>\n",
       "      <td>360</td>\n",
       "      <td>2016-09-19 14:27:44</td>\n",
       "      <td>2016-09-19 14:33:45</td>\n",
       "      <td>3220</td>\n",
       "      <td>5 Corners Library</td>\n",
       "      <td>40.734961</td>\n",
       "      <td>-74.059503</td>\n",
       "      <td>3281</td>\n",
       "      <td>Leonard Gordon Park</td>\n",
       "      <td>40.745910</td>\n",
       "      <td>-74.057271</td>\n",
       "      <td>24524</td>\n",
       "      <td>Subscriber</td>\n",
       "      <td>1980.0</td>\n",
       "      <td>1</td>\n",
       "      <td>6</td>\n",
       "    </tr>\n",
       "    <tr>\n",
       "      <th>18637</th>\n",
       "      <td>18637</td>\n",
       "      <td>206</td>\n",
       "      <td>2015-10-30 18:59:25</td>\n",
       "      <td>2015-10-30 19:02:51</td>\n",
       "      <td>3220</td>\n",
       "      <td>5 Corners Library</td>\n",
       "      <td>40.734961</td>\n",
       "      <td>-74.059503</td>\n",
       "      <td>3207</td>\n",
       "      <td>Oakland Ave</td>\n",
       "      <td>40.737604</td>\n",
       "      <td>-74.052478</td>\n",
       "      <td>24439</td>\n",
       "      <td>Subscriber</td>\n",
       "      <td>1987.0</td>\n",
       "      <td>1</td>\n",
       "      <td>3</td>\n",
       "    </tr>\n",
       "    <tr>\n",
       "      <th>269578</th>\n",
       "      <td>3808</td>\n",
       "      <td>605</td>\n",
       "      <td>2016-10-04 20:57:17</td>\n",
       "      <td>2016-10-04 21:07:23</td>\n",
       "      <td>3220</td>\n",
       "      <td>5 Corners Library</td>\n",
       "      <td>40.734961</td>\n",
       "      <td>-74.059503</td>\n",
       "      <td>3195</td>\n",
       "      <td>Sip Ave</td>\n",
       "      <td>40.730743</td>\n",
       "      <td>-74.063784</td>\n",
       "      <td>24464</td>\n",
       "      <td>Subscriber</td>\n",
       "      <td>1987.0</td>\n",
       "      <td>1</td>\n",
       "      <td>10</td>\n",
       "    </tr>\n",
       "    <tr>\n",
       "      <th>365293</th>\n",
       "      <td>6014</td>\n",
       "      <td>567</td>\n",
       "      <td>2017-03-12 21:05:51</td>\n",
       "      <td>2017-03-12 21:15:18</td>\n",
       "      <td>3220</td>\n",
       "      <td>5 Corners Library</td>\n",
       "      <td>40.734961</td>\n",
       "      <td>-74.059503</td>\n",
       "      <td>3220</td>\n",
       "      <td>5 Corners Library</td>\n",
       "      <td>40.734961</td>\n",
       "      <td>-74.059503</td>\n",
       "      <td>26270</td>\n",
       "      <td>Subscriber</td>\n",
       "      <td>1987.0</td>\n",
       "      <td>1</td>\n",
       "      <td>9</td>\n",
       "    </tr>\n",
       "    <tr>\n",
       "      <th>18559</th>\n",
       "      <td>18559</td>\n",
       "      <td>511</td>\n",
       "      <td>2015-10-30 17:56:29</td>\n",
       "      <td>2015-10-30 18:05:01</td>\n",
       "      <td>3220</td>\n",
       "      <td>5 Corners Library</td>\n",
       "      <td>40.734961</td>\n",
       "      <td>-74.059503</td>\n",
       "      <td>3215</td>\n",
       "      <td>Central Ave</td>\n",
       "      <td>40.746730</td>\n",
       "      <td>-74.049251</td>\n",
       "      <td>24459</td>\n",
       "      <td>Subscriber</td>\n",
       "      <td>1976.0</td>\n",
       "      <td>1</td>\n",
       "      <td>9</td>\n",
       "    </tr>\n",
       "    <tr>\n",
       "      <th>18561</th>\n",
       "      <td>18561</td>\n",
       "      <td>294</td>\n",
       "      <td>2015-10-30 17:59:11</td>\n",
       "      <td>2015-10-30 18:04:05</td>\n",
       "      <td>3220</td>\n",
       "      <td>5 Corners Library</td>\n",
       "      <td>40.734961</td>\n",
       "      <td>-74.059503</td>\n",
       "      <td>3212</td>\n",
       "      <td>Christ Hospital</td>\n",
       "      <td>40.734786</td>\n",
       "      <td>-74.050444</td>\n",
       "      <td>24501</td>\n",
       "      <td>Subscriber</td>\n",
       "      <td>1983.0</td>\n",
       "      <td>1</td>\n",
       "      <td>5</td>\n",
       "    </tr>\n",
       "    <tr>\n",
       "      <th>365351</th>\n",
       "      <td>6072</td>\n",
       "      <td>848</td>\n",
       "      <td>2017-03-13 07:53:02</td>\n",
       "      <td>2017-03-13 08:07:10</td>\n",
       "      <td>3220</td>\n",
       "      <td>5 Corners Library</td>\n",
       "      <td>40.734961</td>\n",
       "      <td>-74.059503</td>\n",
       "      <td>3184</td>\n",
       "      <td>Paulus Hook</td>\n",
       "      <td>40.714145</td>\n",
       "      <td>-74.033552</td>\n",
       "      <td>26270</td>\n",
       "      <td>Subscriber</td>\n",
       "      <td>1969.0</td>\n",
       "      <td>1</td>\n",
       "      <td>14</td>\n",
       "    </tr>\n",
       "    <tr>\n",
       "      <th>592803</th>\n",
       "      <td>20838</td>\n",
       "      <td>474</td>\n",
       "      <td>2016-09-20 01:29:14</td>\n",
       "      <td>2016-09-20 01:37:09</td>\n",
       "      <td>3220</td>\n",
       "      <td>5 Corners Library</td>\n",
       "      <td>40.734961</td>\n",
       "      <td>-74.059503</td>\n",
       "      <td>3197</td>\n",
       "      <td>North St</td>\n",
       "      <td>40.752559</td>\n",
       "      <td>-74.044725</td>\n",
       "      <td>24684</td>\n",
       "      <td>Subscriber</td>\n",
       "      <td>1987.0</td>\n",
       "      <td>1</td>\n",
       "      <td>8</td>\n",
       "    </tr>\n",
       "    <tr>\n",
       "      <th>592762</th>\n",
       "      <td>20797</td>\n",
       "      <td>290</td>\n",
       "      <td>2016-09-19 21:55:38</td>\n",
       "      <td>2016-09-19 22:00:28</td>\n",
       "      <td>3220</td>\n",
       "      <td>5 Corners Library</td>\n",
       "      <td>40.734961</td>\n",
       "      <td>-74.059503</td>\n",
       "      <td>3207</td>\n",
       "      <td>Oakland Ave</td>\n",
       "      <td>40.737604</td>\n",
       "      <td>-74.052478</td>\n",
       "      <td>26164</td>\n",
       "      <td>Subscriber</td>\n",
       "      <td>1954.0</td>\n",
       "      <td>1</td>\n",
       "      <td>5</td>\n",
       "    </tr>\n",
       "    <tr>\n",
       "      <th>592741</th>\n",
       "      <td>20776</td>\n",
       "      <td>362</td>\n",
       "      <td>2016-09-19 21:11:40</td>\n",
       "      <td>2016-09-19 21:17:43</td>\n",
       "      <td>3220</td>\n",
       "      <td>5 Corners Library</td>\n",
       "      <td>40.734961</td>\n",
       "      <td>-74.059503</td>\n",
       "      <td>3210</td>\n",
       "      <td>Pershing Field</td>\n",
       "      <td>40.742677</td>\n",
       "      <td>-74.051789</td>\n",
       "      <td>24609</td>\n",
       "      <td>Subscriber</td>\n",
       "      <td>1992.0</td>\n",
       "      <td>1</td>\n",
       "      <td>6</td>\n",
       "    </tr>\n",
       "    <tr>\n",
       "      <th>592736</th>\n",
       "      <td>20771</td>\n",
       "      <td>224</td>\n",
       "      <td>2016-09-19 21:05:51</td>\n",
       "      <td>2016-09-19 21:09:35</td>\n",
       "      <td>3220</td>\n",
       "      <td>5 Corners Library</td>\n",
       "      <td>40.734961</td>\n",
       "      <td>-74.059503</td>\n",
       "      <td>3207</td>\n",
       "      <td>Oakland Ave</td>\n",
       "      <td>40.737604</td>\n",
       "      <td>-74.052478</td>\n",
       "      <td>24441</td>\n",
       "      <td>Subscriber</td>\n",
       "      <td>1976.0</td>\n",
       "      <td>2</td>\n",
       "      <td>4</td>\n",
       "    </tr>\n",
       "    <tr>\n",
       "      <th>116954</th>\n",
       "      <td>2971</td>\n",
       "      <td>411</td>\n",
       "      <td>2016-04-08 17:51:43</td>\n",
       "      <td>2016-04-08 17:58:34</td>\n",
       "      <td>3220</td>\n",
       "      <td>5 Corners Library</td>\n",
       "      <td>40.734961</td>\n",
       "      <td>-74.059503</td>\n",
       "      <td>3210</td>\n",
       "      <td>Pershing Field</td>\n",
       "      <td>40.742677</td>\n",
       "      <td>-74.051789</td>\n",
       "      <td>24610</td>\n",
       "      <td>Subscriber</td>\n",
       "      <td>1985.0</td>\n",
       "      <td>2</td>\n",
       "      <td>7</td>\n",
       "    </tr>\n",
       "    <tr>\n",
       "      <th>592652</th>\n",
       "      <td>20687</td>\n",
       "      <td>170</td>\n",
       "      <td>2016-09-19 19:33:34</td>\n",
       "      <td>2016-09-19 19:36:25</td>\n",
       "      <td>3220</td>\n",
       "      <td>5 Corners Library</td>\n",
       "      <td>40.734961</td>\n",
       "      <td>-74.059503</td>\n",
       "      <td>3207</td>\n",
       "      <td>Oakland Ave</td>\n",
       "      <td>40.737604</td>\n",
       "      <td>-74.052478</td>\n",
       "      <td>24447</td>\n",
       "      <td>Subscriber</td>\n",
       "      <td>1980.0</td>\n",
       "      <td>1</td>\n",
       "      <td>3</td>\n",
       "    </tr>\n",
       "    <tr>\n",
       "      <th>591294</th>\n",
       "      <td>19329</td>\n",
       "      <td>602</td>\n",
       "      <td>2016-09-18 09:49:10</td>\n",
       "      <td>2016-09-18 09:59:12</td>\n",
       "      <td>3220</td>\n",
       "      <td>5 Corners Library</td>\n",
       "      <td>40.734961</td>\n",
       "      <td>-74.059503</td>\n",
       "      <td>3187</td>\n",
       "      <td>Warren St</td>\n",
       "      <td>40.721124</td>\n",
       "      <td>-74.038051</td>\n",
       "      <td>24615</td>\n",
       "      <td>Subscriber</td>\n",
       "      <td>1991.0</td>\n",
       "      <td>1</td>\n",
       "      <td>10</td>\n",
       "    </tr>\n",
       "    <tr>\n",
       "      <th>592650</th>\n",
       "      <td>20685</td>\n",
       "      <td>92</td>\n",
       "      <td>2016-09-19 19:31:41</td>\n",
       "      <td>2016-09-19 19:33:14</td>\n",
       "      <td>3220</td>\n",
       "      <td>5 Corners Library</td>\n",
       "      <td>40.734961</td>\n",
       "      <td>-74.059503</td>\n",
       "      <td>3220</td>\n",
       "      <td>5 Corners Library</td>\n",
       "      <td>40.734961</td>\n",
       "      <td>-74.059503</td>\n",
       "      <td>24447</td>\n",
       "      <td>Subscriber</td>\n",
       "      <td>1990.0</td>\n",
       "      <td>1</td>\n",
       "      <td>2</td>\n",
       "    </tr>\n",
       "    <tr>\n",
       "      <th>592636</th>\n",
       "      <td>20671</td>\n",
       "      <td>520</td>\n",
       "      <td>2016-09-19 19:24:15</td>\n",
       "      <td>2016-09-19 19:32:55</td>\n",
       "      <td>3220</td>\n",
       "      <td>5 Corners Library</td>\n",
       "      <td>40.734961</td>\n",
       "      <td>-74.059503</td>\n",
       "      <td>3210</td>\n",
       "      <td>Pershing Field</td>\n",
       "      <td>40.742677</td>\n",
       "      <td>-74.051789</td>\n",
       "      <td>26314</td>\n",
       "      <td>Subscriber</td>\n",
       "      <td>1980.0</td>\n",
       "      <td>1</td>\n",
       "      <td>9</td>\n",
       "    </tr>\n",
       "    <tr>\n",
       "      <th>592631</th>\n",
       "      <td>20666</td>\n",
       "      <td>478</td>\n",
       "      <td>2016-09-19 19:20:36</td>\n",
       "      <td>2016-09-19 19:28:34</td>\n",
       "      <td>3220</td>\n",
       "      <td>5 Corners Library</td>\n",
       "      <td>40.734961</td>\n",
       "      <td>-74.059503</td>\n",
       "      <td>3281</td>\n",
       "      <td>Leonard Gordon Park</td>\n",
       "      <td>40.745910</td>\n",
       "      <td>-74.057271</td>\n",
       "      <td>26232</td>\n",
       "      <td>Subscriber</td>\n",
       "      <td>1958.0</td>\n",
       "      <td>1</td>\n",
       "      <td>8</td>\n",
       "    </tr>\n",
       "    <tr>\n",
       "      <th>117003</th>\n",
       "      <td>3020</td>\n",
       "      <td>367</td>\n",
       "      <td>2016-04-08 18:41:07</td>\n",
       "      <td>2016-04-08 18:47:15</td>\n",
       "      <td>3220</td>\n",
       "      <td>5 Corners Library</td>\n",
       "      <td>40.734961</td>\n",
       "      <td>-74.059503</td>\n",
       "      <td>3211</td>\n",
       "      <td>Newark Ave</td>\n",
       "      <td>40.721525</td>\n",
       "      <td>-74.046305</td>\n",
       "      <td>24415</td>\n",
       "      <td>Subscriber</td>\n",
       "      <td>1978.0</td>\n",
       "      <td>1</td>\n",
       "      <td>6</td>\n",
       "    </tr>\n",
       "    <tr>\n",
       "      <th>592592</th>\n",
       "      <td>20627</td>\n",
       "      <td>599</td>\n",
       "      <td>2016-09-19 18:51:03</td>\n",
       "      <td>2016-09-19 19:01:03</td>\n",
       "      <td>3220</td>\n",
       "      <td>5 Corners Library</td>\n",
       "      <td>40.734961</td>\n",
       "      <td>-74.059503</td>\n",
       "      <td>3225</td>\n",
       "      <td>Baldwin at Montgomery</td>\n",
       "      <td>40.723659</td>\n",
       "      <td>-74.064194</td>\n",
       "      <td>26273</td>\n",
       "      <td>Subscriber</td>\n",
       "      <td>1984.0</td>\n",
       "      <td>1</td>\n",
       "      <td>10</td>\n",
       "    </tr>\n",
       "    <tr>\n",
       "      <th>18610</th>\n",
       "      <td>18610</td>\n",
       "      <td>558</td>\n",
       "      <td>2015-10-30 18:36:45</td>\n",
       "      <td>2015-10-30 18:46:03</td>\n",
       "      <td>3220</td>\n",
       "      <td>5 Corners Library</td>\n",
       "      <td>40.734961</td>\n",
       "      <td>-74.059503</td>\n",
       "      <td>3225</td>\n",
       "      <td>Baldwin at Montgomery</td>\n",
       "      <td>40.723659</td>\n",
       "      <td>-74.064194</td>\n",
       "      <td>24672</td>\n",
       "      <td>Subscriber</td>\n",
       "      <td>1990.0</td>\n",
       "      <td>1</td>\n",
       "      <td>9</td>\n",
       "    </tr>\n",
       "    <tr>\n",
       "      <th>592552</th>\n",
       "      <td>20587</td>\n",
       "      <td>1245</td>\n",
       "      <td>2016-09-19 18:25:54</td>\n",
       "      <td>2016-09-19 18:46:39</td>\n",
       "      <td>3220</td>\n",
       "      <td>5 Corners Library</td>\n",
       "      <td>40.734961</td>\n",
       "      <td>-74.059503</td>\n",
       "      <td>3212</td>\n",
       "      <td>Christ Hospital</td>\n",
       "      <td>40.734786</td>\n",
       "      <td>-74.050444</td>\n",
       "      <td>24669</td>\n",
       "      <td>Subscriber</td>\n",
       "      <td>1990.0</td>\n",
       "      <td>1</td>\n",
       "      <td>21</td>\n",
       "    </tr>\n",
       "    <tr>\n",
       "      <th>71277</th>\n",
       "      <td>13485</td>\n",
       "      <td>386</td>\n",
       "      <td>2015-11-25 20:43:15</td>\n",
       "      <td>2015-11-25 20:49:42</td>\n",
       "      <td>3220</td>\n",
       "      <td>5 Corners Library</td>\n",
       "      <td>40.734961</td>\n",
       "      <td>-74.059503</td>\n",
       "      <td>3209</td>\n",
       "      <td>Brunswick St</td>\n",
       "      <td>40.724176</td>\n",
       "      <td>-74.050656</td>\n",
       "      <td>24639</td>\n",
       "      <td>Subscriber</td>\n",
       "      <td>1985.0</td>\n",
       "      <td>1</td>\n",
       "      <td>6</td>\n",
       "    </tr>\n",
       "    <tr>\n",
       "      <th>592499</th>\n",
       "      <td>20534</td>\n",
       "      <td>364</td>\n",
       "      <td>2016-09-19 17:59:14</td>\n",
       "      <td>2016-09-19 18:05:18</td>\n",
       "      <td>3220</td>\n",
       "      <td>5 Corners Library</td>\n",
       "      <td>40.734961</td>\n",
       "      <td>-74.059503</td>\n",
       "      <td>3207</td>\n",
       "      <td>Oakland Ave</td>\n",
       "      <td>40.737604</td>\n",
       "      <td>-74.052478</td>\n",
       "      <td>26232</td>\n",
       "      <td>Subscriber</td>\n",
       "      <td>1984.0</td>\n",
       "      <td>1</td>\n",
       "      <td>6</td>\n",
       "    </tr>\n",
       "    <tr>\n",
       "      <th>592366</th>\n",
       "      <td>20401</td>\n",
       "      <td>187</td>\n",
       "      <td>2016-09-19 16:09:43</td>\n",
       "      <td>2016-09-19 16:12:50</td>\n",
       "      <td>3220</td>\n",
       "      <td>5 Corners Library</td>\n",
       "      <td>40.734961</td>\n",
       "      <td>-74.059503</td>\n",
       "      <td>3195</td>\n",
       "      <td>Sip Ave</td>\n",
       "      <td>40.730743</td>\n",
       "      <td>-74.063784</td>\n",
       "      <td>26291</td>\n",
       "      <td>Subscriber</td>\n",
       "      <td>1986.0</td>\n",
       "      <td>1</td>\n",
       "      <td>3</td>\n",
       "    </tr>\n",
       "    <tr>\n",
       "      <th>365469</th>\n",
       "      <td>6190</td>\n",
       "      <td>609</td>\n",
       "      <td>2017-03-13 11:42:01</td>\n",
       "      <td>2017-03-13 11:52:10</td>\n",
       "      <td>3220</td>\n",
       "      <td>5 Corners Library</td>\n",
       "      <td>40.734961</td>\n",
       "      <td>-74.059503</td>\n",
       "      <td>3197</td>\n",
       "      <td>North St</td>\n",
       "      <td>40.752559</td>\n",
       "      <td>-74.044725</td>\n",
       "      <td>24664</td>\n",
       "      <td>Subscriber</td>\n",
       "      <td>1978.0</td>\n",
       "      <td>1</td>\n",
       "      <td>10</td>\n",
       "    </tr>\n",
       "    <tr>\n",
       "      <th>592643</th>\n",
       "      <td>20678</td>\n",
       "      <td>538</td>\n",
       "      <td>2016-09-19 19:26:36</td>\n",
       "      <td>2016-09-19 19:35:34</td>\n",
       "      <td>3220</td>\n",
       "      <td>5 Corners Library</td>\n",
       "      <td>40.734961</td>\n",
       "      <td>-74.059503</td>\n",
       "      <td>3281</td>\n",
       "      <td>Leonard Gordon Park</td>\n",
       "      <td>40.745910</td>\n",
       "      <td>-74.057271</td>\n",
       "      <td>24456</td>\n",
       "      <td>Subscriber</td>\n",
       "      <td>1985.0</td>\n",
       "      <td>2</td>\n",
       "      <td>9</td>\n",
       "    </tr>\n",
       "    <tr>\n",
       "      <th>117222</th>\n",
       "      <td>3239</td>\n",
       "      <td>385</td>\n",
       "      <td>2016-04-09 13:34:01</td>\n",
       "      <td>2016-04-09 13:40:26</td>\n",
       "      <td>3220</td>\n",
       "      <td>5 Corners Library</td>\n",
       "      <td>40.734961</td>\n",
       "      <td>-74.059503</td>\n",
       "      <td>3211</td>\n",
       "      <td>Newark Ave</td>\n",
       "      <td>40.721525</td>\n",
       "      <td>-74.046305</td>\n",
       "      <td>24565</td>\n",
       "      <td>Subscriber</td>\n",
       "      <td>1978.0</td>\n",
       "      <td>1</td>\n",
       "      <td>6</td>\n",
       "    </tr>\n",
       "    <tr>\n",
       "      <th>218067</th>\n",
       "      <td>19871</td>\n",
       "      <td>905</td>\n",
       "      <td>2016-08-19 09:12:39</td>\n",
       "      <td>2016-08-19 09:27:44</td>\n",
       "      <td>3220</td>\n",
       "      <td>5 Corners Library</td>\n",
       "      <td>40.734961</td>\n",
       "      <td>-74.059503</td>\n",
       "      <td>3184</td>\n",
       "      <td>Paulus Hook</td>\n",
       "      <td>40.714145</td>\n",
       "      <td>-74.033552</td>\n",
       "      <td>24452</td>\n",
       "      <td>Subscriber</td>\n",
       "      <td>1984.0</td>\n",
       "      <td>1</td>\n",
       "      <td>15</td>\n",
       "    </tr>\n",
       "    <tr>\n",
       "      <th>591043</th>\n",
       "      <td>19078</td>\n",
       "      <td>865</td>\n",
       "      <td>2016-09-17 20:45:04</td>\n",
       "      <td>2016-09-17 20:59:29</td>\n",
       "      <td>3220</td>\n",
       "      <td>5 Corners Library</td>\n",
       "      <td>40.734961</td>\n",
       "      <td>-74.059503</td>\n",
       "      <td>3215</td>\n",
       "      <td>Central Ave</td>\n",
       "      <td>40.746730</td>\n",
       "      <td>-74.049251</td>\n",
       "      <td>24718</td>\n",
       "      <td>Subscriber</td>\n",
       "      <td>1985.0</td>\n",
       "      <td>1</td>\n",
       "      <td>14</td>\n",
       "    </tr>\n",
       "    <tr>\n",
       "      <th>269355</th>\n",
       "      <td>3585</td>\n",
       "      <td>1602</td>\n",
       "      <td>2016-10-04 18:32:32</td>\n",
       "      <td>2016-10-04 18:59:15</td>\n",
       "      <td>3220</td>\n",
       "      <td>5 Corners Library</td>\n",
       "      <td>40.734961</td>\n",
       "      <td>-74.059503</td>\n",
       "      <td>3276</td>\n",
       "      <td>Marin Light Rail</td>\n",
       "      <td>40.714584</td>\n",
       "      <td>-74.042817</td>\n",
       "      <td>24550</td>\n",
       "      <td>Subscriber</td>\n",
       "      <td>1992.0</td>\n",
       "      <td>1</td>\n",
       "      <td>27</td>\n",
       "    </tr>\n",
       "    <tr>\n",
       "      <th>589900</th>\n",
       "      <td>17935</td>\n",
       "      <td>687</td>\n",
       "      <td>2016-09-16 19:05:42</td>\n",
       "      <td>2016-09-16 19:17:09</td>\n",
       "      <td>3220</td>\n",
       "      <td>5 Corners Library</td>\n",
       "      <td>40.734961</td>\n",
       "      <td>-74.059503</td>\n",
       "      <td>3187</td>\n",
       "      <td>Warren St</td>\n",
       "      <td>40.721124</td>\n",
       "      <td>-74.038051</td>\n",
       "      <td>26307</td>\n",
       "      <td>Subscriber</td>\n",
       "      <td>1991.0</td>\n",
       "      <td>1</td>\n",
       "      <td>11</td>\n",
       "    </tr>\n",
       "    <tr>\n",
       "      <th>366435</th>\n",
       "      <td>7156</td>\n",
       "      <td>650</td>\n",
       "      <td>2017-03-21 09:22:13</td>\n",
       "      <td>2017-03-21 09:33:04</td>\n",
       "      <td>3220</td>\n",
       "      <td>5 Corners Library</td>\n",
       "      <td>40.734961</td>\n",
       "      <td>-74.059503</td>\n",
       "      <td>3186</td>\n",
       "      <td>Grove St PATH</td>\n",
       "      <td>40.719586</td>\n",
       "      <td>-74.043117</td>\n",
       "      <td>24724</td>\n",
       "      <td>Subscriber</td>\n",
       "      <td>1964.0</td>\n",
       "      <td>1</td>\n",
       "      <td>11</td>\n",
       "    </tr>\n",
       "  </tbody>\n",
       "</table>\n",
       "</div>"
      ],
      "text/plain": [
       "        Unnamed: 0  Trip Duration           Start Time            Stop Time  \\\n",
       "283633       17863           3003  2016-10-18 12:52:34  2016-10-18 13:42:38   \n",
       "592297       20332            479  2016-09-19 12:33:59  2016-09-19 12:41:59   \n",
       "592295       20330            396  2016-09-19 12:23:06  2016-09-19 12:29:43   \n",
       "269540        3770            615  2016-10-04 20:21:55  2016-10-04 20:32:10   \n",
       "71271        13479            175  2015-11-25 20:17:55  2015-11-25 20:20:51   \n",
       "365534        6255            234  2017-03-13 16:03:32  2017-03-13 16:07:26   \n",
       "592219       20254            630  2016-09-19 08:23:28  2016-09-19 08:33:59   \n",
       "217901       19705            519  2016-08-19 07:58:38  2016-08-19 08:07:17   \n",
       "18680        18680            356  2015-10-30 20:01:38  2015-10-30 20:07:35   \n",
       "592059       20094            665  2016-09-18 22:10:00  2016-09-18 22:21:05   \n",
       "592011       20046           1077  2016-09-18 20:36:10  2016-09-18 20:54:07   \n",
       "163750       13937            365  2016-06-19 13:21:07  2016-06-19 13:27:12   \n",
       "365706        6427            574  2017-03-13 19:36:50  2017-03-13 19:46:24   \n",
       "71266        13474            335  2015-11-25 20:02:01  2015-11-25 20:07:37   \n",
       "365734        6455            330  2017-03-13 20:26:00  2017-03-13 20:31:31   \n",
       "591812       19847            797  2016-09-18 17:04:17  2016-09-18 17:17:34   \n",
       "117178        3195            841  2016-04-09 11:00:08  2016-04-09 11:14:09   \n",
       "591711       19746            232  2016-09-18 15:43:25  2016-09-18 15:47:18   \n",
       "365761        6482            484  2017-03-13 21:44:49  2017-03-13 21:52:54   \n",
       "591652       19687            321  2016-09-18 14:56:17  2016-09-18 15:01:38   \n",
       "217935       19739            760  2016-08-19 08:13:18  2016-08-19 08:25:59   \n",
       "117209        3226            593  2016-04-09 12:26:21  2016-04-09 12:36:15   \n",
       "592306       20341            874  2016-09-19 13:16:30  2016-09-19 13:31:05   \n",
       "592332       20367            360  2016-09-19 14:27:44  2016-09-19 14:33:45   \n",
       "18637        18637            206  2015-10-30 18:59:25  2015-10-30 19:02:51   \n",
       "269578        3808            605  2016-10-04 20:57:17  2016-10-04 21:07:23   \n",
       "365293        6014            567  2017-03-12 21:05:51  2017-03-12 21:15:18   \n",
       "18559        18559            511  2015-10-30 17:56:29  2015-10-30 18:05:01   \n",
       "18561        18561            294  2015-10-30 17:59:11  2015-10-30 18:04:05   \n",
       "365351        6072            848  2017-03-13 07:53:02  2017-03-13 08:07:10   \n",
       "592803       20838            474  2016-09-20 01:29:14  2016-09-20 01:37:09   \n",
       "592762       20797            290  2016-09-19 21:55:38  2016-09-19 22:00:28   \n",
       "592741       20776            362  2016-09-19 21:11:40  2016-09-19 21:17:43   \n",
       "592736       20771            224  2016-09-19 21:05:51  2016-09-19 21:09:35   \n",
       "116954        2971            411  2016-04-08 17:51:43  2016-04-08 17:58:34   \n",
       "592652       20687            170  2016-09-19 19:33:34  2016-09-19 19:36:25   \n",
       "591294       19329            602  2016-09-18 09:49:10  2016-09-18 09:59:12   \n",
       "592650       20685             92  2016-09-19 19:31:41  2016-09-19 19:33:14   \n",
       "592636       20671            520  2016-09-19 19:24:15  2016-09-19 19:32:55   \n",
       "592631       20666            478  2016-09-19 19:20:36  2016-09-19 19:28:34   \n",
       "117003        3020            367  2016-04-08 18:41:07  2016-04-08 18:47:15   \n",
       "592592       20627            599  2016-09-19 18:51:03  2016-09-19 19:01:03   \n",
       "18610        18610            558  2015-10-30 18:36:45  2015-10-30 18:46:03   \n",
       "592552       20587           1245  2016-09-19 18:25:54  2016-09-19 18:46:39   \n",
       "71277        13485            386  2015-11-25 20:43:15  2015-11-25 20:49:42   \n",
       "592499       20534            364  2016-09-19 17:59:14  2016-09-19 18:05:18   \n",
       "592366       20401            187  2016-09-19 16:09:43  2016-09-19 16:12:50   \n",
       "365469        6190            609  2017-03-13 11:42:01  2017-03-13 11:52:10   \n",
       "592643       20678            538  2016-09-19 19:26:36  2016-09-19 19:35:34   \n",
       "117222        3239            385  2016-04-09 13:34:01  2016-04-09 13:40:26   \n",
       "218067       19871            905  2016-08-19 09:12:39  2016-08-19 09:27:44   \n",
       "591043       19078            865  2016-09-17 20:45:04  2016-09-17 20:59:29   \n",
       "269355        3585           1602  2016-10-04 18:32:32  2016-10-04 18:59:15   \n",
       "589900       17935            687  2016-09-16 19:05:42  2016-09-16 19:17:09   \n",
       "366435        7156            650  2017-03-21 09:22:13  2017-03-21 09:33:04   \n",
       "\n",
       "        Start Station ID Start Station Name  Start Station Latitude  \\\n",
       "283633              3220  5 Corners Library               40.734961   \n",
       "592297              3220  5 Corners Library               40.734961   \n",
       "592295              3220  5 Corners Library               40.734961   \n",
       "269540              3220  5 Corners Library               40.734961   \n",
       "71271               3220  5 Corners Library               40.734961   \n",
       "365534              3220  5 Corners Library               40.734961   \n",
       "592219              3220  5 Corners Library               40.734961   \n",
       "217901              3220  5 Corners Library               40.734961   \n",
       "18680               3220  5 Corners Library               40.734961   \n",
       "592059              3220  5 Corners Library               40.734961   \n",
       "592011              3220  5 Corners Library               40.734961   \n",
       "163750              3220  5 Corners Library               40.734961   \n",
       "365706              3220  5 Corners Library               40.734961   \n",
       "71266               3220  5 Corners Library               40.734961   \n",
       "365734              3220  5 Corners Library               40.734961   \n",
       "591812              3220  5 Corners Library               40.734961   \n",
       "117178              3220  5 Corners Library               40.734961   \n",
       "591711              3220  5 Corners Library               40.734961   \n",
       "365761              3220  5 Corners Library               40.734961   \n",
       "591652              3220  5 Corners Library               40.734961   \n",
       "217935              3220  5 Corners Library               40.734961   \n",
       "117209              3220  5 Corners Library               40.734961   \n",
       "592306              3220  5 Corners Library               40.734961   \n",
       "592332              3220  5 Corners Library               40.734961   \n",
       "18637               3220  5 Corners Library               40.734961   \n",
       "269578              3220  5 Corners Library               40.734961   \n",
       "365293              3220  5 Corners Library               40.734961   \n",
       "18559               3220  5 Corners Library               40.734961   \n",
       "18561               3220  5 Corners Library               40.734961   \n",
       "365351              3220  5 Corners Library               40.734961   \n",
       "592803              3220  5 Corners Library               40.734961   \n",
       "592762              3220  5 Corners Library               40.734961   \n",
       "592741              3220  5 Corners Library               40.734961   \n",
       "592736              3220  5 Corners Library               40.734961   \n",
       "116954              3220  5 Corners Library               40.734961   \n",
       "592652              3220  5 Corners Library               40.734961   \n",
       "591294              3220  5 Corners Library               40.734961   \n",
       "592650              3220  5 Corners Library               40.734961   \n",
       "592636              3220  5 Corners Library               40.734961   \n",
       "592631              3220  5 Corners Library               40.734961   \n",
       "117003              3220  5 Corners Library               40.734961   \n",
       "592592              3220  5 Corners Library               40.734961   \n",
       "18610               3220  5 Corners Library               40.734961   \n",
       "592552              3220  5 Corners Library               40.734961   \n",
       "71277               3220  5 Corners Library               40.734961   \n",
       "592499              3220  5 Corners Library               40.734961   \n",
       "592366              3220  5 Corners Library               40.734961   \n",
       "365469              3220  5 Corners Library               40.734961   \n",
       "592643              3220  5 Corners Library               40.734961   \n",
       "117222              3220  5 Corners Library               40.734961   \n",
       "218067              3220  5 Corners Library               40.734961   \n",
       "591043              3220  5 Corners Library               40.734961   \n",
       "269355              3220  5 Corners Library               40.734961   \n",
       "589900              3220  5 Corners Library               40.734961   \n",
       "366435              3220  5 Corners Library               40.734961   \n",
       "\n",
       "        Start Station Longitude  End Station ID       End Station Name  \\\n",
       "283633               -74.059503            3199           Newport Pkwy   \n",
       "592297               -74.059503            3207            Oakland Ave   \n",
       "592295               -74.059503            3207            Oakland Ave   \n",
       "269540               -74.059503            3212        Christ Hospital   \n",
       "71271                -74.059503            3207            Oakland Ave   \n",
       "365534               -74.059503            3201                 Dey St   \n",
       "592219               -74.059503            3187              Warren St   \n",
       "217901               -74.059503            3187              Warren St   \n",
       "18680                -74.059503            3207            Oakland Ave   \n",
       "592059               -74.059503            3272           Jersey & 3rd   \n",
       "592011               -74.059503            3210         Pershing Field   \n",
       "163750               -74.059503            3225  Baldwin at Montgomery   \n",
       "365706               -74.059503            3197               North St   \n",
       "71266                -74.059503            3207            Oakland Ave   \n",
       "365734               -74.059503            3210         Pershing Field   \n",
       "591812               -74.059503            3202           Newport PATH   \n",
       "117178               -74.059503            3188                   NJCU   \n",
       "591711               -74.059503            3195                Sip Ave   \n",
       "365761               -74.059503            3210         Pershing Field   \n",
       "591652               -74.059503            3207            Oakland Ave   \n",
       "217935               -74.059503            3183         Exchange Place   \n",
       "117209               -74.059503            3215            Central Ave   \n",
       "592306               -74.059503            3197               North St   \n",
       "592332               -74.059503            3281    Leonard Gordon Park   \n",
       "18637                -74.059503            3207            Oakland Ave   \n",
       "269578               -74.059503            3195                Sip Ave   \n",
       "365293               -74.059503            3220      5 Corners Library   \n",
       "18559                -74.059503            3215            Central Ave   \n",
       "18561                -74.059503            3212        Christ Hospital   \n",
       "365351               -74.059503            3184            Paulus Hook   \n",
       "592803               -74.059503            3197               North St   \n",
       "592762               -74.059503            3207            Oakland Ave   \n",
       "592741               -74.059503            3210         Pershing Field   \n",
       "592736               -74.059503            3207            Oakland Ave   \n",
       "116954               -74.059503            3210         Pershing Field   \n",
       "592652               -74.059503            3207            Oakland Ave   \n",
       "591294               -74.059503            3187              Warren St   \n",
       "592650               -74.059503            3220      5 Corners Library   \n",
       "592636               -74.059503            3210         Pershing Field   \n",
       "592631               -74.059503            3281    Leonard Gordon Park   \n",
       "117003               -74.059503            3211             Newark Ave   \n",
       "592592               -74.059503            3225  Baldwin at Montgomery   \n",
       "18610                -74.059503            3225  Baldwin at Montgomery   \n",
       "592552               -74.059503            3212        Christ Hospital   \n",
       "71277                -74.059503            3209           Brunswick St   \n",
       "592499               -74.059503            3207            Oakland Ave   \n",
       "592366               -74.059503            3195                Sip Ave   \n",
       "365469               -74.059503            3197               North St   \n",
       "592643               -74.059503            3281    Leonard Gordon Park   \n",
       "117222               -74.059503            3211             Newark Ave   \n",
       "218067               -74.059503            3184            Paulus Hook   \n",
       "591043               -74.059503            3215            Central Ave   \n",
       "269355               -74.059503            3276       Marin Light Rail   \n",
       "589900               -74.059503            3187              Warren St   \n",
       "366435               -74.059503            3186          Grove St PATH   \n",
       "\n",
       "        End Station Latitude  End Station Longitude  Bike ID   User Type  \\\n",
       "283633             40.728745             -74.032108    24627  Subscriber   \n",
       "592297             40.737604             -74.052478    24724  Subscriber   \n",
       "592295             40.737604             -74.052478    24631  Subscriber   \n",
       "269540             40.734786             -74.050444    26162  Subscriber   \n",
       "71271              40.737604             -74.052478    24468  Subscriber   \n",
       "365534             40.737711             -74.066921    24648  Subscriber   \n",
       "592219             40.721124             -74.038051    24615  Subscriber   \n",
       "217901             40.721124             -74.038051    24635  Subscriber   \n",
       "18680              40.737604             -74.052478    24470  Subscriber   \n",
       "592059             40.723332             -74.045953    26223  Subscriber   \n",
       "592011             40.742677             -74.051789    24417  Subscriber   \n",
       "163750             40.723659             -74.064194    24684  Subscriber   \n",
       "365706             40.752559             -74.044725    26254  Subscriber   \n",
       "71266              40.737604             -74.052478    24582  Subscriber   \n",
       "365734             40.742677             -74.051789    24664  Subscriber   \n",
       "591812             40.727224             -74.033759    24613  Subscriber   \n",
       "117178             40.710109             -74.085849    24621  Subscriber   \n",
       "591711             40.730743             -74.063784    26304  Subscriber   \n",
       "365761             40.742677             -74.051789    26162  Subscriber   \n",
       "591652             40.737604             -74.052478    26257  Subscriber   \n",
       "217935             40.716247             -74.033459    24478  Subscriber   \n",
       "117209             40.746730             -74.049251    24621  Subscriber   \n",
       "592306             40.752559             -74.044725    26257  Subscriber   \n",
       "592332             40.745910             -74.057271    24524  Subscriber   \n",
       "18637              40.737604             -74.052478    24439  Subscriber   \n",
       "269578             40.730743             -74.063784    24464  Subscriber   \n",
       "365293             40.734961             -74.059503    26270  Subscriber   \n",
       "18559              40.746730             -74.049251    24459  Subscriber   \n",
       "18561              40.734786             -74.050444    24501  Subscriber   \n",
       "365351             40.714145             -74.033552    26270  Subscriber   \n",
       "592803             40.752559             -74.044725    24684  Subscriber   \n",
       "592762             40.737604             -74.052478    26164  Subscriber   \n",
       "592741             40.742677             -74.051789    24609  Subscriber   \n",
       "592736             40.737604             -74.052478    24441  Subscriber   \n",
       "116954             40.742677             -74.051789    24610  Subscriber   \n",
       "592652             40.737604             -74.052478    24447  Subscriber   \n",
       "591294             40.721124             -74.038051    24615  Subscriber   \n",
       "592650             40.734961             -74.059503    24447  Subscriber   \n",
       "592636             40.742677             -74.051789    26314  Subscriber   \n",
       "592631             40.745910             -74.057271    26232  Subscriber   \n",
       "117003             40.721525             -74.046305    24415  Subscriber   \n",
       "592592             40.723659             -74.064194    26273  Subscriber   \n",
       "18610              40.723659             -74.064194    24672  Subscriber   \n",
       "592552             40.734786             -74.050444    24669  Subscriber   \n",
       "71277              40.724176             -74.050656    24639  Subscriber   \n",
       "592499             40.737604             -74.052478    26232  Subscriber   \n",
       "592366             40.730743             -74.063784    26291  Subscriber   \n",
       "365469             40.752559             -74.044725    24664  Subscriber   \n",
       "592643             40.745910             -74.057271    24456  Subscriber   \n",
       "117222             40.721525             -74.046305    24565  Subscriber   \n",
       "218067             40.714145             -74.033552    24452  Subscriber   \n",
       "591043             40.746730             -74.049251    24718  Subscriber   \n",
       "269355             40.714584             -74.042817    24550  Subscriber   \n",
       "589900             40.721124             -74.038051    26307  Subscriber   \n",
       "366435             40.719586             -74.043117    24724  Subscriber   \n",
       "\n",
       "        Birth Year  Gender  Trip_Duration_in_min  \n",
       "283633      1961.0       2                    50  \n",
       "592297      1991.0       1                     8  \n",
       "592295      1991.0       1                     7  \n",
       "269540      1981.0       1                    10  \n",
       "71271       1987.0       1                     3  \n",
       "365534      1963.0       1                     4  \n",
       "592219      1991.0       1                    10  \n",
       "217901      1991.0       1                     9  \n",
       "18680       1954.0       1                     6  \n",
       "592059      1989.0       1                    11  \n",
       "592011      1983.0       1                    18  \n",
       "163750      1985.0       1                     6  \n",
       "365706      1978.0       1                    10  \n",
       "71266       1977.0       1                     6  \n",
       "365734      1992.0       1                     6  \n",
       "591812      1977.0       1                    13  \n",
       "117178      1978.0       1                    14  \n",
       "591711      1990.0       2                     4  \n",
       "365761      1978.0       2                     8  \n",
       "591652      1974.0       1                     5  \n",
       "217935      1969.0       1                    13  \n",
       "117209      1982.0       1                    10  \n",
       "592306      1978.0       1                    15  \n",
       "592332      1980.0       1                     6  \n",
       "18637       1987.0       1                     3  \n",
       "269578      1987.0       1                    10  \n",
       "365293      1987.0       1                     9  \n",
       "18559       1976.0       1                     9  \n",
       "18561       1983.0       1                     5  \n",
       "365351      1969.0       1                    14  \n",
       "592803      1987.0       1                     8  \n",
       "592762      1954.0       1                     5  \n",
       "592741      1992.0       1                     6  \n",
       "592736      1976.0       2                     4  \n",
       "116954      1985.0       2                     7  \n",
       "592652      1980.0       1                     3  \n",
       "591294      1991.0       1                    10  \n",
       "592650      1990.0       1                     2  \n",
       "592636      1980.0       1                     9  \n",
       "592631      1958.0       1                     8  \n",
       "117003      1978.0       1                     6  \n",
       "592592      1984.0       1                    10  \n",
       "18610       1990.0       1                     9  \n",
       "592552      1990.0       1                    21  \n",
       "71277       1985.0       1                     6  \n",
       "592499      1984.0       1                     6  \n",
       "592366      1986.0       1                     3  \n",
       "365469      1978.0       1                    10  \n",
       "592643      1985.0       2                     9  \n",
       "117222      1978.0       1                     6  \n",
       "218067      1984.0       1                    15  \n",
       "591043      1985.0       1                    14  \n",
       "269355      1992.0       1                    27  \n",
       "589900      1991.0       1                    11  \n",
       "366435      1964.0       1                    11  "
      ]
     },
     "execution_count": 8,
     "metadata": {},
     "output_type": "execute_result"
    }
   ],
   "source": [
    "df.sort_values(\"Start Station Name\", inplace = True)\n",
    "df.head(55)"
   ]
  },
  {
   "cell_type": "code",
   "execution_count": 9,
   "id": "f8fbe7e9",
   "metadata": {},
   "outputs": [
    {
     "data": {
      "text/plain": [
       "True     735451\n",
       "False        51\n",
       "Name: Start Station Name, dtype: int64"
      ]
     },
     "execution_count": 9,
     "metadata": {},
     "output_type": "execute_result"
    }
   ],
   "source": [
    "df['Start Station Name'].duplicated().value_counts()"
   ]
  },
  {
   "cell_type": "code",
   "execution_count": null,
   "id": "fa36799e",
   "metadata": {},
   "outputs": [],
   "source": []
  },
  {
   "cell_type": "code",
   "execution_count": 10,
   "id": "ee446f59",
   "metadata": {},
   "outputs": [
    {
     "data": {
      "text/plain": [
       "1984.0    98177\n",
       "1986.0    36723\n",
       "1981.0    36054\n",
       "1983.0    33563\n",
       "1980.0    33045\n",
       "          ...  \n",
       "1945.0       14\n",
       "1942.0       14\n",
       "1943.0       12\n",
       "1937.0        8\n",
       "1934.0        2\n",
       "Name: Birth Year, Length: 65, dtype: int64"
      ]
     },
     "execution_count": 10,
     "metadata": {},
     "output_type": "execute_result"
    }
   ],
   "source": [
    "df['Birth Year'].value_counts()"
   ]
  },
  {
   "cell_type": "code",
   "execution_count": 11,
   "id": "b99afe5a",
   "metadata": {},
   "outputs": [
    {
     "data": {
      "text/plain": [
       "Grove St PATH              86155\n",
       "Exchange Place             56282\n",
       "Sip Ave                    49545\n",
       "Hamilton Park              47610\n",
       "Newport PATH               40024\n",
       "Brunswick St               29337\n",
       "Essex Light Rail           28459\n",
       "Newark Ave                 28245\n",
       "Van Vorst Park             26882\n",
       "Newport Pkwy               26154\n",
       "Warren St                  25630\n",
       "City Hall                  23976\n",
       "Paulus Hook                23041\n",
       "McGinley Square            20568\n",
       "Liberty Light Rail         17789\n",
       "Morris Canal               16400\n",
       "JC Medical Center          14130\n",
       "Baldwin at Montgomery      12723\n",
       "Oakland Ave                12339\n",
       "Marin Light Rail           11088\n",
       "Jersey & 6th St            10444\n",
       "Pershing Field             10366\n",
       "Jersey & 3rd                9650\n",
       "Monmouth and 6th            9132\n",
       "Lincoln Park                9125\n",
       "Dixon Mills                 8184\n",
       "Hilltop                     8078\n",
       "5 Corners Library           7953\n",
       "Christ Hospital             7695\n",
       "Columbus Drive              7530\n",
       "Central Ave                 6520\n",
       "Dey St                      6190\n",
       "Manila & 1st                5194\n",
       "Riverview Park              5193\n",
       "Heights Elevator            5107\n",
       "North St                    4287\n",
       "Brunswick & 6th             4130\n",
       "Garfield Ave Station        2753\n",
       "Lafayette Park              2294\n",
       "NJCU                        1773\n",
       "Leonard Gordon Park         1448\n",
       "Astor Place                 1124\n",
       "West Side Light Rail        1036\n",
       "Union St                    1024\n",
       "Bayside Park                 903\n",
       "Columbia Park                709\n",
       "MLK Light Rail               707\n",
       "Communipaw & Berry Lane      290\n",
       "Danforth Light Rail          210\n",
       "Bethune Center                74\n",
       "JCBS Depot                     2\n",
       "Name: Start Station Name, dtype: int64"
      ]
     },
     "execution_count": 11,
     "metadata": {},
     "output_type": "execute_result"
    }
   ],
   "source": [
    "df['Start Station Name'].value_counts()"
   ]
  },
  {
   "cell_type": "code",
   "execution_count": 12,
   "id": "c49a8c45",
   "metadata": {},
   "outputs": [
    {
     "data": {
      "text/plain": [
       "Grove St PATH                   114148\n",
       "Exchange Place                   65154\n",
       "Hamilton Park                    46802\n",
       "Sip Ave                          46543\n",
       "Newport PATH                     39789\n",
       "                                 ...  \n",
       "MacDougal St & Washington Sq         2\n",
       "Allen St & Rivington St              2\n",
       "Murray St & West St                  2\n",
       "E 47 St & Park Ave                   2\n",
       "9 Ave & W 45 St                      1\n",
       "Name: End Station Name, Length: 114, dtype: int64"
      ]
     },
     "execution_count": 12,
     "metadata": {},
     "output_type": "execute_result"
    }
   ],
   "source": [
    "df['End Station Name'].value_counts()"
   ]
  },
  {
   "cell_type": "code",
   "execution_count": 13,
   "id": "5e3ab1c9",
   "metadata": {},
   "outputs": [
    {
     "data": {
      "text/plain": [
       "24613    2883\n",
       "24497    2740\n",
       "24572    2646\n",
       "24484    2601\n",
       "24688    2580\n",
       "         ... \n",
       "19605       2\n",
       "22506       2\n",
       "19628       2\n",
       "19522       2\n",
       "18062       2\n",
       "Name: Bike ID, Length: 677, dtype: int64"
      ]
     },
     "execution_count": 13,
     "metadata": {},
     "output_type": "execute_result"
    }
   ],
   "source": [
    "df['Bike ID'].value_counts()"
   ]
  },
  {
   "cell_type": "markdown",
   "id": "5dd8126f",
   "metadata": {},
   "source": [
    "### PART 2: Data Cleaning\n",
    "##### Remove columns we wont use/check for missing values /check for duplicates\n",
    "\n",
    "-- In order to streamline further analysis I drop columns that wont contribute to the analysis:\n",
    "\n",
    "--- WE drop the following columns\n",
    "    Unnamed: 0, Start Station Latitude/Longitude, End Station Latitude/Longitude. \n",
    "    \n",
    "    \n",
    "--- Find Percentage of missing values for individual columns"
   ]
  },
  {
   "cell_type": "code",
   "execution_count": 14,
   "id": "5fd2003a",
   "metadata": {},
   "outputs": [
    {
     "data": {
      "text/plain": [
       "Unnamed: 0                 0\n",
       "Birth Year                 0\n",
       "User Type                  0\n",
       "Bike ID                    0\n",
       "End Station Longitude      0\n",
       "End Station Latitude       0\n",
       "End Station Name           0\n",
       "Gender                     0\n",
       "End Station ID             0\n",
       "Start Station Latitude     0\n",
       "Start Station Name         0\n",
       "Start Station ID           0\n",
       "Stop Time                  0\n",
       "Start Time                 0\n",
       "Trip Duration              0\n",
       "Start Station Longitude    0\n",
       "Trip_Duration_in_min       0\n",
       "dtype: int64"
      ]
     },
     "execution_count": 14,
     "metadata": {},
     "output_type": "execute_result"
    }
   ],
   "source": [
    "missing = df.isna().sum().sort_values(ascending=True)\n",
    "missing"
   ]
  },
  {
   "cell_type": "code",
   "execution_count": 15,
   "id": "ac94062e",
   "metadata": {},
   "outputs": [
    {
     "data": {
      "text/plain": [
       "Unnamed: 0                 0.0\n",
       "Birth Year                 0.0\n",
       "User Type                  0.0\n",
       "Bike ID                    0.0\n",
       "End Station Longitude      0.0\n",
       "End Station Latitude       0.0\n",
       "End Station Name           0.0\n",
       "Gender                     0.0\n",
       "End Station ID             0.0\n",
       "Start Station Latitude     0.0\n",
       "Start Station Name         0.0\n",
       "Start Station ID           0.0\n",
       "Stop Time                  0.0\n",
       "Start Time                 0.0\n",
       "Trip Duration              0.0\n",
       "Start Station Longitude    0.0\n",
       "Trip_Duration_in_min       0.0\n",
       "dtype: float64"
      ]
     },
     "execution_count": 15,
     "metadata": {},
     "output_type": "execute_result"
    }
   ],
   "source": [
    "missing_percentages = missing / len(df)\n",
    "missing_percentages"
   ]
  },
  {
   "cell_type": "code",
   "execution_count": 16,
   "id": "1d23b4f0",
   "metadata": {},
   "outputs": [
    {
     "data": {
      "text/html": [
       "<div>\n",
       "<style scoped>\n",
       "    .dataframe tbody tr th:only-of-type {\n",
       "        vertical-align: middle;\n",
       "    }\n",
       "\n",
       "    .dataframe tbody tr th {\n",
       "        vertical-align: top;\n",
       "    }\n",
       "\n",
       "    .dataframe thead th {\n",
       "        text-align: right;\n",
       "    }\n",
       "</style>\n",
       "<table border=\"1\" class=\"dataframe\">\n",
       "  <thead>\n",
       "    <tr style=\"text-align: right;\">\n",
       "      <th></th>\n",
       "      <th>Unnamed: 0</th>\n",
       "      <th>Trip Duration</th>\n",
       "      <th>Start Time</th>\n",
       "      <th>Stop Time</th>\n",
       "      <th>Start Station ID</th>\n",
       "      <th>Start Station Name</th>\n",
       "      <th>Start Station Latitude</th>\n",
       "      <th>Start Station Longitude</th>\n",
       "      <th>End Station ID</th>\n",
       "      <th>End Station Name</th>\n",
       "      <th>End Station Latitude</th>\n",
       "      <th>End Station Longitude</th>\n",
       "      <th>Bike ID</th>\n",
       "      <th>User Type</th>\n",
       "      <th>Birth Year</th>\n",
       "      <th>Gender</th>\n",
       "      <th>Trip_Duration_in_min</th>\n",
       "    </tr>\n",
       "  </thead>\n",
       "  <tbody>\n",
       "    <tr>\n",
       "      <th>608417</th>\n",
       "      <td>3027</td>\n",
       "      <td>638</td>\n",
       "      <td>2016-10-04 09:06:01</td>\n",
       "      <td>2016-10-04 09:16:39</td>\n",
       "      <td>3220</td>\n",
       "      <td>5 Corners Library</td>\n",
       "      <td>40.734961</td>\n",
       "      <td>-74.059503</td>\n",
       "      <td>3183</td>\n",
       "      <td>Exchange Place</td>\n",
       "      <td>40.716247</td>\n",
       "      <td>-74.033459</td>\n",
       "      <td>26210</td>\n",
       "      <td>Subscriber</td>\n",
       "      <td>1987.0</td>\n",
       "      <td>1</td>\n",
       "      <td>11</td>\n",
       "    </tr>\n",
       "    <tr>\n",
       "      <th>608403</th>\n",
       "      <td>3013</td>\n",
       "      <td>892</td>\n",
       "      <td>2016-10-04 08:58:32</td>\n",
       "      <td>2016-10-04 09:13:24</td>\n",
       "      <td>3220</td>\n",
       "      <td>5 Corners Library</td>\n",
       "      <td>40.734961</td>\n",
       "      <td>-74.059503</td>\n",
       "      <td>3214</td>\n",
       "      <td>Essex Light Rail</td>\n",
       "      <td>40.712774</td>\n",
       "      <td>-74.036486</td>\n",
       "      <td>26157</td>\n",
       "      <td>Subscriber</td>\n",
       "      <td>1984.0</td>\n",
       "      <td>1</td>\n",
       "      <td>15</td>\n",
       "    </tr>\n",
       "    <tr>\n",
       "      <th>608483</th>\n",
       "      <td>3093</td>\n",
       "      <td>764</td>\n",
       "      <td>2016-10-04 09:54:35</td>\n",
       "      <td>2016-10-04 10:07:20</td>\n",
       "      <td>3220</td>\n",
       "      <td>5 Corners Library</td>\n",
       "      <td>40.734961</td>\n",
       "      <td>-74.059503</td>\n",
       "      <td>3183</td>\n",
       "      <td>Exchange Place</td>\n",
       "      <td>40.716247</td>\n",
       "      <td>-74.033459</td>\n",
       "      <td>26155</td>\n",
       "      <td>Subscriber</td>\n",
       "      <td>1985.0</td>\n",
       "      <td>1</td>\n",
       "      <td>13</td>\n",
       "    </tr>\n",
       "    <tr>\n",
       "      <th>609198</th>\n",
       "      <td>3808</td>\n",
       "      <td>605</td>\n",
       "      <td>2016-10-04 20:57:17</td>\n",
       "      <td>2016-10-04 21:07:23</td>\n",
       "      <td>3220</td>\n",
       "      <td>5 Corners Library</td>\n",
       "      <td>40.734961</td>\n",
       "      <td>-74.059503</td>\n",
       "      <td>3195</td>\n",
       "      <td>Sip Ave</td>\n",
       "      <td>40.730743</td>\n",
       "      <td>-74.063784</td>\n",
       "      <td>24464</td>\n",
       "      <td>Subscriber</td>\n",
       "      <td>1987.0</td>\n",
       "      <td>1</td>\n",
       "      <td>10</td>\n",
       "    </tr>\n",
       "    <tr>\n",
       "      <th>609160</th>\n",
       "      <td>3770</td>\n",
       "      <td>615</td>\n",
       "      <td>2016-10-04 20:21:55</td>\n",
       "      <td>2016-10-04 20:32:10</td>\n",
       "      <td>3220</td>\n",
       "      <td>5 Corners Library</td>\n",
       "      <td>40.734961</td>\n",
       "      <td>-74.059503</td>\n",
       "      <td>3212</td>\n",
       "      <td>Christ Hospital</td>\n",
       "      <td>40.734786</td>\n",
       "      <td>-74.050444</td>\n",
       "      <td>26162</td>\n",
       "      <td>Subscriber</td>\n",
       "      <td>1981.0</td>\n",
       "      <td>1</td>\n",
       "      <td>10</td>\n",
       "    </tr>\n",
       "    <tr>\n",
       "      <th>...</th>\n",
       "      <td>...</td>\n",
       "      <td>...</td>\n",
       "      <td>...</td>\n",
       "      <td>...</td>\n",
       "      <td>...</td>\n",
       "      <td>...</td>\n",
       "      <td>...</td>\n",
       "      <td>...</td>\n",
       "      <td>...</td>\n",
       "      <td>...</td>\n",
       "      <td>...</td>\n",
       "      <td>...</td>\n",
       "      <td>...</td>\n",
       "      <td>...</td>\n",
       "      <td>...</td>\n",
       "      <td>...</td>\n",
       "      <td>...</td>\n",
       "    </tr>\n",
       "    <tr>\n",
       "      <th>691694</th>\n",
       "      <td>6821</td>\n",
       "      <td>694</td>\n",
       "      <td>2017-02-17 17:29:29</td>\n",
       "      <td>2017-02-17 17:41:04</td>\n",
       "      <td>3189</td>\n",
       "      <td>West Side Light Rail</td>\n",
       "      <td>40.714402</td>\n",
       "      <td>-74.088772</td>\n",
       "      <td>3193</td>\n",
       "      <td>Lincoln Park</td>\n",
       "      <td>40.724605</td>\n",
       "      <td>-74.078406</td>\n",
       "      <td>24705</td>\n",
       "      <td>Subscriber</td>\n",
       "      <td>1991.0</td>\n",
       "      <td>1</td>\n",
       "      <td>12</td>\n",
       "    </tr>\n",
       "    <tr>\n",
       "      <th>74501</th>\n",
       "      <td>1596</td>\n",
       "      <td>1375</td>\n",
       "      <td>2015-12-04 20:45:01</td>\n",
       "      <td>2015-12-04 21:07:57</td>\n",
       "      <td>3189</td>\n",
       "      <td>West Side Light Rail</td>\n",
       "      <td>40.714402</td>\n",
       "      <td>-74.088772</td>\n",
       "      <td>3186</td>\n",
       "      <td>Grove St PATH</td>\n",
       "      <td>40.719586</td>\n",
       "      <td>-74.043117</td>\n",
       "      <td>24379</td>\n",
       "      <td>Subscriber</td>\n",
       "      <td>1970.0</td>\n",
       "      <td>2</td>\n",
       "      <td>23</td>\n",
       "    </tr>\n",
       "    <tr>\n",
       "      <th>515083</th>\n",
       "      <td>1703</td>\n",
       "      <td>2064</td>\n",
       "      <td>2016-07-03 17:56:50</td>\n",
       "      <td>2016-07-03 18:31:15</td>\n",
       "      <td>3189</td>\n",
       "      <td>West Side Light Rail</td>\n",
       "      <td>40.714402</td>\n",
       "      <td>-74.088772</td>\n",
       "      <td>3187</td>\n",
       "      <td>Warren St</td>\n",
       "      <td>40.721124</td>\n",
       "      <td>-74.038051</td>\n",
       "      <td>24494</td>\n",
       "      <td>Subscriber</td>\n",
       "      <td>1963.0</td>\n",
       "      <td>1</td>\n",
       "      <td>34</td>\n",
       "    </tr>\n",
       "    <tr>\n",
       "      <th>100725</th>\n",
       "      <td>253</td>\n",
       "      <td>952</td>\n",
       "      <td>2016-03-01 16:17:27</td>\n",
       "      <td>2016-03-01 16:33:20</td>\n",
       "      <td>3189</td>\n",
       "      <td>West Side Light Rail</td>\n",
       "      <td>40.714402</td>\n",
       "      <td>-74.088772</td>\n",
       "      <td>3195</td>\n",
       "      <td>Sip Ave</td>\n",
       "      <td>40.730743</td>\n",
       "      <td>-74.063784</td>\n",
       "      <td>24627</td>\n",
       "      <td>Subscriber</td>\n",
       "      <td>1969.0</td>\n",
       "      <td>1</td>\n",
       "      <td>16</td>\n",
       "    </tr>\n",
       "    <tr>\n",
       "      <th>124237</th>\n",
       "      <td>10254</td>\n",
       "      <td>5680</td>\n",
       "      <td>2016-04-21 19:27:18</td>\n",
       "      <td>2016-04-21 21:01:59</td>\n",
       "      <td>3189</td>\n",
       "      <td>West Side Light Rail</td>\n",
       "      <td>40.714402</td>\n",
       "      <td>-74.088772</td>\n",
       "      <td>3189</td>\n",
       "      <td>West Side Light Rail</td>\n",
       "      <td>40.714402</td>\n",
       "      <td>-74.088772</td>\n",
       "      <td>24575</td>\n",
       "      <td>Customer</td>\n",
       "      <td>1984.0</td>\n",
       "      <td>0</td>\n",
       "      <td>95</td>\n",
       "    </tr>\n",
       "  </tbody>\n",
       "</table>\n",
       "<p>395882 rows × 17 columns</p>\n",
       "</div>"
      ],
      "text/plain": [
       "        Unnamed: 0  Trip Duration           Start Time            Stop Time  \\\n",
       "608417        3027            638  2016-10-04 09:06:01  2016-10-04 09:16:39   \n",
       "608403        3013            892  2016-10-04 08:58:32  2016-10-04 09:13:24   \n",
       "608483        3093            764  2016-10-04 09:54:35  2016-10-04 10:07:20   \n",
       "609198        3808            605  2016-10-04 20:57:17  2016-10-04 21:07:23   \n",
       "609160        3770            615  2016-10-04 20:21:55  2016-10-04 20:32:10   \n",
       "...            ...            ...                  ...                  ...   \n",
       "691694        6821            694  2017-02-17 17:29:29  2017-02-17 17:41:04   \n",
       "74501         1596           1375  2015-12-04 20:45:01  2015-12-04 21:07:57   \n",
       "515083        1703           2064  2016-07-03 17:56:50  2016-07-03 18:31:15   \n",
       "100725         253            952  2016-03-01 16:17:27  2016-03-01 16:33:20   \n",
       "124237       10254           5680  2016-04-21 19:27:18  2016-04-21 21:01:59   \n",
       "\n",
       "        Start Station ID    Start Station Name  Start Station Latitude  \\\n",
       "608417              3220     5 Corners Library               40.734961   \n",
       "608403              3220     5 Corners Library               40.734961   \n",
       "608483              3220     5 Corners Library               40.734961   \n",
       "609198              3220     5 Corners Library               40.734961   \n",
       "609160              3220     5 Corners Library               40.734961   \n",
       "...                  ...                   ...                     ...   \n",
       "691694              3189  West Side Light Rail               40.714402   \n",
       "74501               3189  West Side Light Rail               40.714402   \n",
       "515083              3189  West Side Light Rail               40.714402   \n",
       "100725              3189  West Side Light Rail               40.714402   \n",
       "124237              3189  West Side Light Rail               40.714402   \n",
       "\n",
       "        Start Station Longitude  End Station ID      End Station Name  \\\n",
       "608417               -74.059503            3183        Exchange Place   \n",
       "608403               -74.059503            3214      Essex Light Rail   \n",
       "608483               -74.059503            3183        Exchange Place   \n",
       "609198               -74.059503            3195               Sip Ave   \n",
       "609160               -74.059503            3212       Christ Hospital   \n",
       "...                         ...             ...                   ...   \n",
       "691694               -74.088772            3193          Lincoln Park   \n",
       "74501                -74.088772            3186         Grove St PATH   \n",
       "515083               -74.088772            3187             Warren St   \n",
       "100725               -74.088772            3195               Sip Ave   \n",
       "124237               -74.088772            3189  West Side Light Rail   \n",
       "\n",
       "        End Station Latitude  End Station Longitude  Bike ID   User Type  \\\n",
       "608417             40.716247             -74.033459    26210  Subscriber   \n",
       "608403             40.712774             -74.036486    26157  Subscriber   \n",
       "608483             40.716247             -74.033459    26155  Subscriber   \n",
       "609198             40.730743             -74.063784    24464  Subscriber   \n",
       "609160             40.734786             -74.050444    26162  Subscriber   \n",
       "...                      ...                    ...      ...         ...   \n",
       "691694             40.724605             -74.078406    24705  Subscriber   \n",
       "74501              40.719586             -74.043117    24379  Subscriber   \n",
       "515083             40.721124             -74.038051    24494  Subscriber   \n",
       "100725             40.730743             -74.063784    24627  Subscriber   \n",
       "124237             40.714402             -74.088772    24575    Customer   \n",
       "\n",
       "        Birth Year  Gender  Trip_Duration_in_min  \n",
       "608417      1987.0       1                    11  \n",
       "608403      1984.0       1                    15  \n",
       "608483      1985.0       1                    13  \n",
       "609198      1987.0       1                    10  \n",
       "609160      1981.0       1                    10  \n",
       "...            ...     ...                   ...  \n",
       "691694      1991.0       1                    12  \n",
       "74501       1970.0       2                    23  \n",
       "515083      1963.0       1                    34  \n",
       "100725      1969.0       1                    16  \n",
       "124237      1984.0       0                    95  \n",
       "\n",
       "[395882 rows x 17 columns]"
      ]
     },
     "execution_count": 16,
     "metadata": {},
     "output_type": "execute_result"
    }
   ],
   "source": [
    "##checking for duplicates\n",
    "duplicateRows = df[df.duplicated()]\n",
    "duplicateRows"
   ]
  },
  {
   "cell_type": "code",
   "execution_count": 17,
   "id": "cfaf067f",
   "metadata": {},
   "outputs": [],
   "source": [
    "df.drop_duplicates(subset=None, keep='first', inplace=True)"
   ]
  },
  {
   "cell_type": "code",
   "execution_count": 18,
   "id": "bd497fd1",
   "metadata": {},
   "outputs": [
    {
     "name": "stdout",
     "output_type": "stream",
     "text": [
      "<class 'pandas.core.frame.DataFrame'>\n",
      "Int64Index: 339620 entries, 283633 to 121821\n",
      "Data columns (total 17 columns):\n",
      " #   Column                   Non-Null Count   Dtype  \n",
      "---  ------                   --------------   -----  \n",
      " 0   Unnamed: 0               339620 non-null  int64  \n",
      " 1   Trip Duration            339620 non-null  int64  \n",
      " 2   Start Time               339620 non-null  object \n",
      " 3   Stop Time                339620 non-null  object \n",
      " 4   Start Station ID         339620 non-null  int64  \n",
      " 5   Start Station Name       339620 non-null  object \n",
      " 6   Start Station Latitude   339620 non-null  float64\n",
      " 7   Start Station Longitude  339620 non-null  float64\n",
      " 8   End Station ID           339620 non-null  int64  \n",
      " 9   End Station Name         339620 non-null  object \n",
      " 10  End Station Latitude     339620 non-null  float64\n",
      " 11  End Station Longitude    339620 non-null  float64\n",
      " 12  Bike ID                  339620 non-null  int64  \n",
      " 13  User Type                339620 non-null  object \n",
      " 14  Birth Year               339620 non-null  float64\n",
      " 15  Gender                   339620 non-null  int64  \n",
      " 16  Trip_Duration_in_min     339620 non-null  int64  \n",
      "dtypes: float64(5), int64(7), object(5)\n",
      "memory usage: 46.6+ MB\n"
     ]
    }
   ],
   "source": [
    "df.info()"
   ]
  },
  {
   "cell_type": "code",
   "execution_count": 19,
   "id": "6966b83f",
   "metadata": {},
   "outputs": [
    {
     "data": {
      "text/html": [
       "<div>\n",
       "<style scoped>\n",
       "    .dataframe tbody tr th:only-of-type {\n",
       "        vertical-align: middle;\n",
       "    }\n",
       "\n",
       "    .dataframe tbody tr th {\n",
       "        vertical-align: top;\n",
       "    }\n",
       "\n",
       "    .dataframe thead th {\n",
       "        text-align: right;\n",
       "    }\n",
       "</style>\n",
       "<table border=\"1\" class=\"dataframe\">\n",
       "  <thead>\n",
       "    <tr style=\"text-align: right;\">\n",
       "      <th></th>\n",
       "      <th>Unnamed: 0</th>\n",
       "      <th>Trip Duration</th>\n",
       "      <th>Start Time</th>\n",
       "      <th>Stop Time</th>\n",
       "      <th>Start Station ID</th>\n",
       "      <th>Start Station Name</th>\n",
       "      <th>Start Station Latitude</th>\n",
       "      <th>Start Station Longitude</th>\n",
       "      <th>End Station ID</th>\n",
       "      <th>End Station Name</th>\n",
       "      <th>End Station Latitude</th>\n",
       "      <th>End Station Longitude</th>\n",
       "      <th>Bike ID</th>\n",
       "      <th>User Type</th>\n",
       "      <th>Birth Year</th>\n",
       "      <th>Gender</th>\n",
       "      <th>Trip_Duration_in_min</th>\n",
       "    </tr>\n",
       "  </thead>\n",
       "  <tbody>\n",
       "    <tr>\n",
       "      <th>283633</th>\n",
       "      <td>17863</td>\n",
       "      <td>3003</td>\n",
       "      <td>2016-10-18 12:52:34</td>\n",
       "      <td>2016-10-18 13:42:38</td>\n",
       "      <td>3220</td>\n",
       "      <td>5 Corners Library</td>\n",
       "      <td>40.734961</td>\n",
       "      <td>-74.059503</td>\n",
       "      <td>3199</td>\n",
       "      <td>Newport Pkwy</td>\n",
       "      <td>40.728745</td>\n",
       "      <td>-74.032108</td>\n",
       "      <td>24627</td>\n",
       "      <td>Subscriber</td>\n",
       "      <td>1961.0</td>\n",
       "      <td>2</td>\n",
       "      <td>50</td>\n",
       "    </tr>\n",
       "    <tr>\n",
       "      <th>592297</th>\n",
       "      <td>20332</td>\n",
       "      <td>479</td>\n",
       "      <td>2016-09-19 12:33:59</td>\n",
       "      <td>2016-09-19 12:41:59</td>\n",
       "      <td>3220</td>\n",
       "      <td>5 Corners Library</td>\n",
       "      <td>40.734961</td>\n",
       "      <td>-74.059503</td>\n",
       "      <td>3207</td>\n",
       "      <td>Oakland Ave</td>\n",
       "      <td>40.737604</td>\n",
       "      <td>-74.052478</td>\n",
       "      <td>24724</td>\n",
       "      <td>Subscriber</td>\n",
       "      <td>1991.0</td>\n",
       "      <td>1</td>\n",
       "      <td>8</td>\n",
       "    </tr>\n",
       "    <tr>\n",
       "      <th>592295</th>\n",
       "      <td>20330</td>\n",
       "      <td>396</td>\n",
       "      <td>2016-09-19 12:23:06</td>\n",
       "      <td>2016-09-19 12:29:43</td>\n",
       "      <td>3220</td>\n",
       "      <td>5 Corners Library</td>\n",
       "      <td>40.734961</td>\n",
       "      <td>-74.059503</td>\n",
       "      <td>3207</td>\n",
       "      <td>Oakland Ave</td>\n",
       "      <td>40.737604</td>\n",
       "      <td>-74.052478</td>\n",
       "      <td>24631</td>\n",
       "      <td>Subscriber</td>\n",
       "      <td>1991.0</td>\n",
       "      <td>1</td>\n",
       "      <td>7</td>\n",
       "    </tr>\n",
       "    <tr>\n",
       "      <th>269540</th>\n",
       "      <td>3770</td>\n",
       "      <td>615</td>\n",
       "      <td>2016-10-04 20:21:55</td>\n",
       "      <td>2016-10-04 20:32:10</td>\n",
       "      <td>3220</td>\n",
       "      <td>5 Corners Library</td>\n",
       "      <td>40.734961</td>\n",
       "      <td>-74.059503</td>\n",
       "      <td>3212</td>\n",
       "      <td>Christ Hospital</td>\n",
       "      <td>40.734786</td>\n",
       "      <td>-74.050444</td>\n",
       "      <td>26162</td>\n",
       "      <td>Subscriber</td>\n",
       "      <td>1981.0</td>\n",
       "      <td>1</td>\n",
       "      <td>10</td>\n",
       "    </tr>\n",
       "    <tr>\n",
       "      <th>71271</th>\n",
       "      <td>13479</td>\n",
       "      <td>175</td>\n",
       "      <td>2015-11-25 20:17:55</td>\n",
       "      <td>2015-11-25 20:20:51</td>\n",
       "      <td>3220</td>\n",
       "      <td>5 Corners Library</td>\n",
       "      <td>40.734961</td>\n",
       "      <td>-74.059503</td>\n",
       "      <td>3207</td>\n",
       "      <td>Oakland Ave</td>\n",
       "      <td>40.737604</td>\n",
       "      <td>-74.052478</td>\n",
       "      <td>24468</td>\n",
       "      <td>Subscriber</td>\n",
       "      <td>1987.0</td>\n",
       "      <td>1</td>\n",
       "      <td>3</td>\n",
       "    </tr>\n",
       "  </tbody>\n",
       "</table>\n",
       "</div>"
      ],
      "text/plain": [
       "        Unnamed: 0  Trip Duration           Start Time            Stop Time  \\\n",
       "283633       17863           3003  2016-10-18 12:52:34  2016-10-18 13:42:38   \n",
       "592297       20332            479  2016-09-19 12:33:59  2016-09-19 12:41:59   \n",
       "592295       20330            396  2016-09-19 12:23:06  2016-09-19 12:29:43   \n",
       "269540        3770            615  2016-10-04 20:21:55  2016-10-04 20:32:10   \n",
       "71271        13479            175  2015-11-25 20:17:55  2015-11-25 20:20:51   \n",
       "\n",
       "        Start Station ID Start Station Name  Start Station Latitude  \\\n",
       "283633              3220  5 Corners Library               40.734961   \n",
       "592297              3220  5 Corners Library               40.734961   \n",
       "592295              3220  5 Corners Library               40.734961   \n",
       "269540              3220  5 Corners Library               40.734961   \n",
       "71271               3220  5 Corners Library               40.734961   \n",
       "\n",
       "        Start Station Longitude  End Station ID End Station Name  \\\n",
       "283633               -74.059503            3199     Newport Pkwy   \n",
       "592297               -74.059503            3207      Oakland Ave   \n",
       "592295               -74.059503            3207      Oakland Ave   \n",
       "269540               -74.059503            3212  Christ Hospital   \n",
       "71271                -74.059503            3207      Oakland Ave   \n",
       "\n",
       "        End Station Latitude  End Station Longitude  Bike ID   User Type  \\\n",
       "283633             40.728745             -74.032108    24627  Subscriber   \n",
       "592297             40.737604             -74.052478    24724  Subscriber   \n",
       "592295             40.737604             -74.052478    24631  Subscriber   \n",
       "269540             40.734786             -74.050444    26162  Subscriber   \n",
       "71271              40.737604             -74.052478    24468  Subscriber   \n",
       "\n",
       "        Birth Year  Gender  Trip_Duration_in_min  \n",
       "283633      1961.0       2                    50  \n",
       "592297      1991.0       1                     8  \n",
       "592295      1991.0       1                     7  \n",
       "269540      1981.0       1                    10  \n",
       "71271       1987.0       1                     3  "
      ]
     },
     "execution_count": 19,
     "metadata": {},
     "output_type": "execute_result"
    }
   ],
   "source": [
    "df.head(5)"
   ]
  },
  {
   "cell_type": "code",
   "execution_count": 20,
   "id": "50a52cf4",
   "metadata": {},
   "outputs": [
    {
     "data": {
      "text/plain": [
       "pandas.core.frame.DataFrame"
      ]
     },
     "execution_count": 20,
     "metadata": {},
     "output_type": "execute_result"
    }
   ],
   "source": [
    "type(df)"
   ]
  },
  {
   "cell_type": "code",
   "execution_count": 21,
   "id": "6a960bc0",
   "metadata": {},
   "outputs": [
    {
     "data": {
      "text/html": [
       "<div>\n",
       "<style scoped>\n",
       "    .dataframe tbody tr th:only-of-type {\n",
       "        vertical-align: middle;\n",
       "    }\n",
       "\n",
       "    .dataframe tbody tr th {\n",
       "        vertical-align: top;\n",
       "    }\n",
       "\n",
       "    .dataframe thead th {\n",
       "        text-align: right;\n",
       "    }\n",
       "</style>\n",
       "<table border=\"1\" class=\"dataframe\">\n",
       "  <thead>\n",
       "    <tr style=\"text-align: right;\">\n",
       "      <th></th>\n",
       "      <th>Unnamed: 0</th>\n",
       "      <th>Trip Duration</th>\n",
       "      <th>Start Time</th>\n",
       "      <th>Stop Time</th>\n",
       "      <th>Start Station ID</th>\n",
       "      <th>Start Station Name</th>\n",
       "      <th>Start Station Latitude</th>\n",
       "      <th>Start Station Longitude</th>\n",
       "      <th>End Station ID</th>\n",
       "      <th>End Station Name</th>\n",
       "      <th>End Station Latitude</th>\n",
       "      <th>End Station Longitude</th>\n",
       "      <th>Bike ID</th>\n",
       "      <th>User Type</th>\n",
       "      <th>Birth Year</th>\n",
       "      <th>Gender</th>\n",
       "      <th>Trip_Duration_in_min</th>\n",
       "    </tr>\n",
       "  </thead>\n",
       "  <tbody>\n",
       "    <tr>\n",
       "      <th>167857</th>\n",
       "      <td>18044</td>\n",
       "      <td>672</td>\n",
       "      <td>2016-06-23 21:22:19</td>\n",
       "      <td>2016-06-23 21:33:32</td>\n",
       "      <td>3189</td>\n",
       "      <td>West Side Light Rail</td>\n",
       "      <td>40.714402</td>\n",
       "      <td>-74.088772</td>\n",
       "      <td>3189</td>\n",
       "      <td>West Side Light Rail</td>\n",
       "      <td>40.714402</td>\n",
       "      <td>-74.088772</td>\n",
       "      <td>24514</td>\n",
       "      <td>Subscriber</td>\n",
       "      <td>1986.0</td>\n",
       "      <td>1</td>\n",
       "      <td>11</td>\n",
       "    </tr>\n",
       "    <tr>\n",
       "      <th>372324</th>\n",
       "      <td>844</td>\n",
       "      <td>709</td>\n",
       "      <td>2015-09-23 06:16:41</td>\n",
       "      <td>2015-09-23 06:28:31</td>\n",
       "      <td>3189</td>\n",
       "      <td>West Side Light Rail</td>\n",
       "      <td>40.714402</td>\n",
       "      <td>-74.088772</td>\n",
       "      <td>3195</td>\n",
       "      <td>Sip Ave</td>\n",
       "      <td>40.730743</td>\n",
       "      <td>-74.063784</td>\n",
       "      <td>24604</td>\n",
       "      <td>Subscriber</td>\n",
       "      <td>1988.0</td>\n",
       "      <td>1</td>\n",
       "      <td>12</td>\n",
       "    </tr>\n",
       "    <tr>\n",
       "      <th>121930</th>\n",
       "      <td>7947</td>\n",
       "      <td>15611</td>\n",
       "      <td>2016-04-18 16:28:37</td>\n",
       "      <td>2016-04-18 20:48:49</td>\n",
       "      <td>3189</td>\n",
       "      <td>West Side Light Rail</td>\n",
       "      <td>40.714402</td>\n",
       "      <td>-74.088772</td>\n",
       "      <td>3189</td>\n",
       "      <td>West Side Light Rail</td>\n",
       "      <td>40.714402</td>\n",
       "      <td>-74.088772</td>\n",
       "      <td>24575</td>\n",
       "      <td>Customer</td>\n",
       "      <td>1984.0</td>\n",
       "      <td>0</td>\n",
       "      <td>260</td>\n",
       "    </tr>\n",
       "    <tr>\n",
       "      <th>121824</th>\n",
       "      <td>7841</td>\n",
       "      <td>2605</td>\n",
       "      <td>2016-04-18 11:47:52</td>\n",
       "      <td>2016-04-18 12:31:18</td>\n",
       "      <td>3189</td>\n",
       "      <td>West Side Light Rail</td>\n",
       "      <td>40.714402</td>\n",
       "      <td>-74.088772</td>\n",
       "      <td>3195</td>\n",
       "      <td>Sip Ave</td>\n",
       "      <td>40.730743</td>\n",
       "      <td>-74.063784</td>\n",
       "      <td>24485</td>\n",
       "      <td>Customer</td>\n",
       "      <td>1984.0</td>\n",
       "      <td>0</td>\n",
       "      <td>43</td>\n",
       "    </tr>\n",
       "    <tr>\n",
       "      <th>121821</th>\n",
       "      <td>7838</td>\n",
       "      <td>371</td>\n",
       "      <td>2016-04-18 11:44:10</td>\n",
       "      <td>2016-04-18 11:50:21</td>\n",
       "      <td>3189</td>\n",
       "      <td>West Side Light Rail</td>\n",
       "      <td>40.714402</td>\n",
       "      <td>-74.088772</td>\n",
       "      <td>3193</td>\n",
       "      <td>Lincoln Park</td>\n",
       "      <td>40.724605</td>\n",
       "      <td>-74.078406</td>\n",
       "      <td>24518</td>\n",
       "      <td>Customer</td>\n",
       "      <td>1984.0</td>\n",
       "      <td>0</td>\n",
       "      <td>6</td>\n",
       "    </tr>\n",
       "  </tbody>\n",
       "</table>\n",
       "</div>"
      ],
      "text/plain": [
       "        Unnamed: 0  Trip Duration           Start Time            Stop Time  \\\n",
       "167857       18044            672  2016-06-23 21:22:19  2016-06-23 21:33:32   \n",
       "372324         844            709  2015-09-23 06:16:41  2015-09-23 06:28:31   \n",
       "121930        7947          15611  2016-04-18 16:28:37  2016-04-18 20:48:49   \n",
       "121824        7841           2605  2016-04-18 11:47:52  2016-04-18 12:31:18   \n",
       "121821        7838            371  2016-04-18 11:44:10  2016-04-18 11:50:21   \n",
       "\n",
       "        Start Station ID    Start Station Name  Start Station Latitude  \\\n",
       "167857              3189  West Side Light Rail               40.714402   \n",
       "372324              3189  West Side Light Rail               40.714402   \n",
       "121930              3189  West Side Light Rail               40.714402   \n",
       "121824              3189  West Side Light Rail               40.714402   \n",
       "121821              3189  West Side Light Rail               40.714402   \n",
       "\n",
       "        Start Station Longitude  End Station ID      End Station Name  \\\n",
       "167857               -74.088772            3189  West Side Light Rail   \n",
       "372324               -74.088772            3195               Sip Ave   \n",
       "121930               -74.088772            3189  West Side Light Rail   \n",
       "121824               -74.088772            3195               Sip Ave   \n",
       "121821               -74.088772            3193          Lincoln Park   \n",
       "\n",
       "        End Station Latitude  End Station Longitude  Bike ID   User Type  \\\n",
       "167857             40.714402             -74.088772    24514  Subscriber   \n",
       "372324             40.730743             -74.063784    24604  Subscriber   \n",
       "121930             40.714402             -74.088772    24575    Customer   \n",
       "121824             40.730743             -74.063784    24485    Customer   \n",
       "121821             40.724605             -74.078406    24518    Customer   \n",
       "\n",
       "        Birth Year  Gender  Trip_Duration_in_min  \n",
       "167857      1986.0       1                    11  \n",
       "372324      1988.0       1                    12  \n",
       "121930      1984.0       0                   260  \n",
       "121824      1984.0       0                    43  \n",
       "121821      1984.0       0                     6  "
      ]
     },
     "execution_count": 21,
     "metadata": {},
     "output_type": "execute_result"
    }
   ],
   "source": [
    "df.tail()"
   ]
  },
  {
   "cell_type": "code",
   "execution_count": 22,
   "id": "f4e1e07d",
   "metadata": {},
   "outputs": [],
   "source": [
    "#drop columns\n",
    "\n",
    "updated_df = df.drop(['Unnamed: 0', 'Start Station Latitude', 'Start Station Longitude', 'End Station Latitude', 'End Station Longitude'], inplace=True, axis=1)"
   ]
  },
  {
   "cell_type": "code",
   "execution_count": 23,
   "id": "882e1521",
   "metadata": {},
   "outputs": [
    {
     "data": {
      "text/plain": [
       "Index(['Trip Duration', 'Start Time', 'Stop Time', 'Start Station ID',\n",
       "       'Start Station Name', 'End Station ID', 'End Station Name', 'Bike ID',\n",
       "       'User Type', 'Birth Year', 'Gender', 'Trip_Duration_in_min'],\n",
       "      dtype='object')"
      ]
     },
     "execution_count": 23,
     "metadata": {},
     "output_type": "execute_result"
    }
   ],
   "source": [
    "df.columns"
   ]
  },
  {
   "cell_type": "code",
   "execution_count": 24,
   "id": "158a2bd6",
   "metadata": {},
   "outputs": [],
   "source": [
    "df = df[df['Gender']!=0].copy()"
   ]
  },
  {
   "cell_type": "code",
   "execution_count": 25,
   "id": "cf30268f",
   "metadata": {},
   "outputs": [
    {
     "data": {
      "text/plain": [
       "1    242904\n",
       "2     69197\n",
       "Name: Gender, dtype: int64"
      ]
     },
     "execution_count": 25,
     "metadata": {},
     "output_type": "execute_result"
    }
   ],
   "source": [
    "df['Gender'].value_counts()"
   ]
  },
  {
   "cell_type": "markdown",
   "id": "79288b64",
   "metadata": {},
   "source": [
    "### Start Time & Stop Time\n",
    "\n",
    "-- WE clean these 2 columns by converting them to datetime objects.\n",
    "\n",
    "-- This will in turn help us extract specific attributes from these datetime objects i.e specific month "
   ]
  },
  {
   "cell_type": "code",
   "execution_count": 26,
   "id": "234d1700",
   "metadata": {},
   "outputs": [],
   "source": [
    "import datetime as dt"
   ]
  },
  {
   "cell_type": "code",
   "execution_count": 28,
   "id": "131a8ea8",
   "metadata": {},
   "outputs": [],
   "source": [
    "df['Start Time'] = [dt.datetime.strptime(x, '%Y-%m-%d  %H:%M:%S') for x in df['Start Time']]"
   ]
  },
  {
   "cell_type": "code",
   "execution_count": 29,
   "id": "e488d55c",
   "metadata": {},
   "outputs": [],
   "source": [
    "df['Stop Time'] = [dt.datetime.strptime(x, '%Y-%m-%d  %H:%M:%S') for x in df['Stop Time']]"
   ]
  },
  {
   "cell_type": "code",
   "execution_count": 30,
   "id": "554d1f7c",
   "metadata": {},
   "outputs": [
    {
     "name": "stdout",
     "output_type": "stream",
     "text": [
      "<class 'pandas.core.frame.DataFrame'>\n",
      "Int64Index: 312101 entries, 283633 to 372324\n",
      "Data columns (total 12 columns):\n",
      " #   Column                Non-Null Count   Dtype         \n",
      "---  ------                --------------   -----         \n",
      " 0   Trip Duration         312101 non-null  int64         \n",
      " 1   Start Time            312101 non-null  datetime64[ns]\n",
      " 2   Stop Time             312101 non-null  datetime64[ns]\n",
      " 3   Start Station ID      312101 non-null  int64         \n",
      " 4   Start Station Name    312101 non-null  object        \n",
      " 5   End Station ID        312101 non-null  int64         \n",
      " 6   End Station Name      312101 non-null  object        \n",
      " 7   Bike ID               312101 non-null  int64         \n",
      " 8   User Type             312101 non-null  object        \n",
      " 9   Birth Year            312101 non-null  float64       \n",
      " 10  Gender                312101 non-null  int64         \n",
      " 11  Trip_Duration_in_min  312101 non-null  int64         \n",
      "dtypes: datetime64[ns](2), float64(1), int64(6), object(3)\n",
      "memory usage: 39.0+ MB\n"
     ]
    }
   ],
   "source": [
    "df.info()"
   ]
  },
  {
   "cell_type": "code",
   "execution_count": 31,
   "id": "30523723",
   "metadata": {},
   "outputs": [
    {
     "data": {
      "text/plain": [
       "4     14526\n",
       "5     17689\n",
       "1     19654\n",
       "2     21045\n",
       "6     21739\n",
       "7     22169\n",
       "3     24218\n",
       "12    25532\n",
       "8     30588\n",
       "11    34428\n",
       "9     35866\n",
       "10    44647\n",
       "Name: Start Time, dtype: int64"
      ]
     },
     "execution_count": 31,
     "metadata": {},
     "output_type": "execute_result"
    }
   ],
   "source": [
    "df['Start Time'].dt.month.value_counts(ascending = True)"
   ]
  },
  {
   "cell_type": "code",
   "execution_count": 32,
   "id": "f77661ca",
   "metadata": {},
   "outputs": [
    {
     "data": {
      "text/plain": [
       "8     38292\n",
       "18    31939\n",
       "17    26219\n",
       "19    24348\n",
       "9     21950\n",
       "7     19622\n",
       "20    16968\n",
       "16    15465\n",
       "13    12918\n",
       "15    12712\n",
       "12    12380\n",
       "10    12331\n",
       "14    12252\n",
       "21    12107\n",
       "11    10755\n",
       "22     8491\n",
       "6      8309\n",
       "23     5111\n",
       "0      3348\n",
       "5      2440\n",
       "1      1784\n",
       "2      1020\n",
       "4       786\n",
       "3       554\n",
       "Name: Stop Time, dtype: int64"
      ]
     },
     "execution_count": 32,
     "metadata": {},
     "output_type": "execute_result"
    }
   ],
   "source": [
    "df['Stop Time'].dt.hour.value_counts()"
   ]
  },
  {
   "cell_type": "code",
   "execution_count": 33,
   "id": "7deb6119",
   "metadata": {},
   "outputs": [],
   "source": [
    "df['Start Month'] = df['Start Time'].dt.month"
   ]
  },
  {
   "cell_type": "markdown",
   "id": "2765b454",
   "metadata": {},
   "source": [
    "### Birth Year"
   ]
  },
  {
   "cell_type": "code",
   "execution_count": 34,
   "id": "0005b063",
   "metadata": {},
   "outputs": [
    {
     "data": {
      "text/plain": [
       "1984.0    19193\n",
       "1986.0    17001\n",
       "1981.0    16383\n",
       "1983.0    15484\n",
       "1989.0    15001\n",
       "          ...  \n",
       "1940.0        6\n",
       "1943.0        6\n",
       "1900.0        6\n",
       "1937.0        4\n",
       "1934.0        1\n",
       "Name: Birth Year, Length: 65, dtype: int64"
      ]
     },
     "execution_count": 34,
     "metadata": {},
     "output_type": "execute_result"
    }
   ],
   "source": [
    "df['Birth Year'].value_counts()"
   ]
  },
  {
   "cell_type": "code",
   "execution_count": 35,
   "id": "22d9374d",
   "metadata": {},
   "outputs": [],
   "source": [
    "above_80 = df[df['Birth Year'] < 1930]\n",
    "above_70 = df[df['Birth Year'] < 1940]"
   ]
  },
  {
   "cell_type": "code",
   "execution_count": 36,
   "id": "68381549",
   "metadata": {},
   "outputs": [
    {
     "data": {
      "text/html": [
       "<div>\n",
       "<style scoped>\n",
       "    .dataframe tbody tr th:only-of-type {\n",
       "        vertical-align: middle;\n",
       "    }\n",
       "\n",
       "    .dataframe tbody tr th {\n",
       "        vertical-align: top;\n",
       "    }\n",
       "\n",
       "    .dataframe thead th {\n",
       "        text-align: right;\n",
       "    }\n",
       "</style>\n",
       "<table border=\"1\" class=\"dataframe\">\n",
       "  <thead>\n",
       "    <tr style=\"text-align: right;\">\n",
       "      <th></th>\n",
       "      <th>Trip Duration</th>\n",
       "      <th>Start Time</th>\n",
       "      <th>Stop Time</th>\n",
       "      <th>Start Station ID</th>\n",
       "      <th>Start Station Name</th>\n",
       "      <th>End Station ID</th>\n",
       "      <th>End Station Name</th>\n",
       "      <th>Bike ID</th>\n",
       "      <th>User Type</th>\n",
       "      <th>Birth Year</th>\n",
       "      <th>Gender</th>\n",
       "      <th>Trip_Duration_in_min</th>\n",
       "      <th>Start Month</th>\n",
       "    </tr>\n",
       "  </thead>\n",
       "  <tbody>\n",
       "    <tr>\n",
       "      <th>395875</th>\n",
       "      <td>197</td>\n",
       "      <td>2015-10-29 15:37:51</td>\n",
       "      <td>2015-10-29 15:41:08</td>\n",
       "      <td>3199</td>\n",
       "      <td>Newport Pkwy</td>\n",
       "      <td>3199</td>\n",
       "      <td>Newport Pkwy</td>\n",
       "      <td>24565</td>\n",
       "      <td>Subscriber</td>\n",
       "      <td>1900.0</td>\n",
       "      <td>1</td>\n",
       "      <td>3</td>\n",
       "      <td>10</td>\n",
       "    </tr>\n",
       "    <tr>\n",
       "      <th>16692</th>\n",
       "      <td>1449</td>\n",
       "      <td>2015-10-27 14:22:44</td>\n",
       "      <td>2015-10-27 14:46:54</td>\n",
       "      <td>3199</td>\n",
       "      <td>Newport Pkwy</td>\n",
       "      <td>3202</td>\n",
       "      <td>Newport PATH</td>\n",
       "      <td>24629</td>\n",
       "      <td>Subscriber</td>\n",
       "      <td>1900.0</td>\n",
       "      <td>1</td>\n",
       "      <td>24</td>\n",
       "      <td>10</td>\n",
       "    </tr>\n",
       "    <tr>\n",
       "      <th>372004</th>\n",
       "      <td>337</td>\n",
       "      <td>2015-09-22 15:22:07</td>\n",
       "      <td>2015-09-22 15:27:44</td>\n",
       "      <td>3199</td>\n",
       "      <td>Newport Pkwy</td>\n",
       "      <td>3199</td>\n",
       "      <td>Newport Pkwy</td>\n",
       "      <td>24479</td>\n",
       "      <td>Subscriber</td>\n",
       "      <td>1900.0</td>\n",
       "      <td>1</td>\n",
       "      <td>6</td>\n",
       "      <td>9</td>\n",
       "    </tr>\n",
       "    <tr>\n",
       "      <th>10072</th>\n",
       "      <td>315</td>\n",
       "      <td>2015-10-16 15:29:23</td>\n",
       "      <td>2015-10-16 15:34:39</td>\n",
       "      <td>3199</td>\n",
       "      <td>Newport Pkwy</td>\n",
       "      <td>3199</td>\n",
       "      <td>Newport Pkwy</td>\n",
       "      <td>24488</td>\n",
       "      <td>Subscriber</td>\n",
       "      <td>1900.0</td>\n",
       "      <td>1</td>\n",
       "      <td>5</td>\n",
       "      <td>10</td>\n",
       "    </tr>\n",
       "    <tr>\n",
       "      <th>47832</th>\n",
       "      <td>179</td>\n",
       "      <td>2015-10-15 14:49:34</td>\n",
       "      <td>2015-10-15 14:52:33</td>\n",
       "      <td>3199</td>\n",
       "      <td>Newport Pkwy</td>\n",
       "      <td>3199</td>\n",
       "      <td>Newport Pkwy</td>\n",
       "      <td>24529</td>\n",
       "      <td>Subscriber</td>\n",
       "      <td>1900.0</td>\n",
       "      <td>1</td>\n",
       "      <td>3</td>\n",
       "      <td>10</td>\n",
       "    </tr>\n",
       "    <tr>\n",
       "      <th>299798</th>\n",
       "      <td>1022</td>\n",
       "      <td>2016-11-05 12:57:44</td>\n",
       "      <td>2016-11-05 13:14:47</td>\n",
       "      <td>3210</td>\n",
       "      <td>Pershing Field</td>\n",
       "      <td>3195</td>\n",
       "      <td>Sip Ave</td>\n",
       "      <td>24555</td>\n",
       "      <td>Subscriber</td>\n",
       "      <td>1900.0</td>\n",
       "      <td>1</td>\n",
       "      <td>17</td>\n",
       "      <td>11</td>\n",
       "    </tr>\n",
       "  </tbody>\n",
       "</table>\n",
       "</div>"
      ],
      "text/plain": [
       "        Trip Duration          Start Time           Stop Time  \\\n",
       "395875            197 2015-10-29 15:37:51 2015-10-29 15:41:08   \n",
       "16692            1449 2015-10-27 14:22:44 2015-10-27 14:46:54   \n",
       "372004            337 2015-09-22 15:22:07 2015-09-22 15:27:44   \n",
       "10072             315 2015-10-16 15:29:23 2015-10-16 15:34:39   \n",
       "47832             179 2015-10-15 14:49:34 2015-10-15 14:52:33   \n",
       "299798           1022 2016-11-05 12:57:44 2016-11-05 13:14:47   \n",
       "\n",
       "        Start Station ID Start Station Name  End Station ID End Station Name  \\\n",
       "395875              3199       Newport Pkwy            3199     Newport Pkwy   \n",
       "16692               3199       Newport Pkwy            3202     Newport PATH   \n",
       "372004              3199       Newport Pkwy            3199     Newport Pkwy   \n",
       "10072               3199       Newport Pkwy            3199     Newport Pkwy   \n",
       "47832               3199       Newport Pkwy            3199     Newport Pkwy   \n",
       "299798              3210     Pershing Field            3195          Sip Ave   \n",
       "\n",
       "        Bike ID   User Type  Birth Year  Gender  Trip_Duration_in_min  \\\n",
       "395875    24565  Subscriber      1900.0       1                     3   \n",
       "16692     24629  Subscriber      1900.0       1                    24   \n",
       "372004    24479  Subscriber      1900.0       1                     6   \n",
       "10072     24488  Subscriber      1900.0       1                     5   \n",
       "47832     24529  Subscriber      1900.0       1                     3   \n",
       "299798    24555  Subscriber      1900.0       1                    17   \n",
       "\n",
       "        Start Month  \n",
       "395875           10  \n",
       "16692            10  \n",
       "372004            9  \n",
       "10072            10  \n",
       "47832            10  \n",
       "299798           11  "
      ]
     },
     "execution_count": 36,
     "metadata": {},
     "output_type": "execute_result"
    }
   ],
   "source": [
    "above_80"
   ]
  },
  {
   "cell_type": "code",
   "execution_count": 37,
   "id": "841e1b23",
   "metadata": {},
   "outputs": [],
   "source": [
    "df.drop(df.index[(df['Birth Year'] < 1940)], axis=0, inplace=True)"
   ]
  },
  {
   "cell_type": "code",
   "execution_count": 38,
   "id": "09e74641",
   "metadata": {},
   "outputs": [
    {
     "data": {
      "text/plain": [
       "1984.0    19193\n",
       "1986.0    17001\n",
       "1981.0    16383\n",
       "1983.0    15484\n",
       "1989.0    15001\n",
       "          ...  \n",
       "2000.0        9\n",
       "1945.0        7\n",
       "1942.0        7\n",
       "1940.0        6\n",
       "1943.0        6\n",
       "Name: Birth Year, Length: 61, dtype: int64"
      ]
     },
     "execution_count": 38,
     "metadata": {},
     "output_type": "execute_result"
    }
   ],
   "source": [
    "df['Birth Year'].value_counts()"
   ]
  },
  {
   "cell_type": "code",
   "execution_count": 39,
   "id": "6e3292e5",
   "metadata": {},
   "outputs": [],
   "source": [
    "#create new column age\n",
    "df['age'] = df['Start Time'].dt.year - df['Birth Year']"
   ]
  },
  {
   "cell_type": "code",
   "execution_count": 40,
   "id": "326240d2",
   "metadata": {},
   "outputs": [
    {
     "data": {
      "text/plain": [
       "32.0    17858\n",
       "30.0    16452\n",
       "35.0    16428\n",
       "31.0    15829\n",
       "33.0    15418\n",
       "        ...  \n",
       "71.0       38\n",
       "76.0       37\n",
       "16.0       29\n",
       "70.0       26\n",
       "73.0        6\n",
       "Name: age, Length: 61, dtype: int64"
      ]
     },
     "execution_count": 40,
     "metadata": {},
     "output_type": "execute_result"
    }
   ],
   "source": [
    "df['age'].value_counts()"
   ]
  },
  {
   "cell_type": "markdown",
   "id": "1c7af9b5",
   "metadata": {},
   "source": [
    "#### We deem customers of age 70 and above as outliers and drop their values"
   ]
  },
  {
   "cell_type": "code",
   "execution_count": 41,
   "id": "e54105fd",
   "metadata": {},
   "outputs": [],
   "source": [
    "df.drop(df.index[(df['age'] > 70)], axis=0, inplace=True)"
   ]
  },
  {
   "cell_type": "code",
   "execution_count": 42,
   "id": "bf0d3613",
   "metadata": {},
   "outputs": [
    {
     "data": {
      "text/plain": [
       "32.0    17858\n",
       "30.0    16452\n",
       "35.0    16428\n",
       "31.0    15829\n",
       "33.0    15418\n",
       "27.0    13856\n",
       "36.0    13436\n",
       "34.0    13291\n",
       "29.0    12700\n",
       "28.0    12522\n",
       "26.0    12042\n",
       "39.0    11861\n",
       "37.0    11207\n",
       "40.0    10126\n",
       "38.0     9918\n",
       "25.0     9672\n",
       "44.0     6430\n",
       "41.0     6416\n",
       "46.0     6176\n",
       "45.0     5887\n",
       "24.0     5847\n",
       "42.0     5732\n",
       "43.0     5320\n",
       "48.0     5239\n",
       "47.0     5218\n",
       "52.0     4093\n",
       "54.0     3509\n",
       "49.0     3300\n",
       "53.0     3238\n",
       "60.0     3186\n",
       "51.0     3124\n",
       "56.0     2814\n",
       "23.0     2637\n",
       "55.0     2495\n",
       "57.0     2096\n",
       "50.0     2055\n",
       "62.0     2004\n",
       "58.0     1971\n",
       "59.0     1930\n",
       "22.0     1645\n",
       "61.0     1635\n",
       "20.0     1014\n",
       "21.0      764\n",
       "64.0      564\n",
       "63.0      535\n",
       "65.0      514\n",
       "19.0      359\n",
       "18.0      331\n",
       "67.0      246\n",
       "66.0      237\n",
       "68.0      211\n",
       "69.0      171\n",
       "17.0       47\n",
       "16.0       29\n",
       "70.0       26\n",
       "Name: age, dtype: int64"
      ]
     },
     "execution_count": 42,
     "metadata": {},
     "output_type": "execute_result"
    }
   ],
   "source": [
    "df['age'].value_counts()"
   ]
  },
  {
   "cell_type": "code",
   "execution_count": null,
   "id": "9f3d30bb",
   "metadata": {},
   "outputs": [],
   "source": []
  },
  {
   "cell_type": "markdown",
   "id": "a48f2cd3",
   "metadata": {},
   "source": [
    "# Exploratory Analysis & Visualizations"
   ]
  },
  {
   "cell_type": "code",
   "execution_count": 43,
   "id": "b4138e1d",
   "metadata": {},
   "outputs": [],
   "source": [
    "import matplotlib.pyplot as plt"
   ]
  },
  {
   "cell_type": "code",
   "execution_count": 44,
   "id": "e7d4a632",
   "metadata": {
    "collapsed": true
   },
   "outputs": [
    {
     "data": {
      "text/plain": [
       "<AxesSubplot:ylabel='Gender'>"
      ]
     },
     "execution_count": 44,
     "metadata": {},
     "output_type": "execute_result"
    },
    {
     "data": {
      "image/png": "[encoded data removed]",
      "text/plain": [
       "<Figure size 432x288 with 1 Axes>"
      ]
     },
     "metadata": {},
     "output_type": "display_data"
    }
   ],
   "source": [
    "df['Gender'].value_counts().plot.pie(labels =['Male', 'Female'])"
   ]
  },
  {
   "cell_type": "markdown",
   "id": "58b84c4f",
   "metadata": {},
   "source": [
    "#### Represent the proportion of Gender in a piechart\n",
    "\n",
    "--- According to the documentation of the dataset 1 reps Male & 2 reps Female"
   ]
  },
  {
   "cell_type": "code",
   "execution_count": 45,
   "id": "fb35d2b4",
   "metadata": {},
   "outputs": [
    {
     "data": {
      "text/plain": [
       "<AxesSubplot:ylabel='Gender'>"
      ]
     },
     "execution_count": 45,
     "metadata": {},
     "output_type": "execute_result"
    },
    {
     "data": {
      "image/png": "[encoded data removed]",
      "text/plain": [
       "<Figure size 400x400 with 1 Axes>"
      ]
     },
     "metadata": {},
     "output_type": "display_data"
    }
   ],
   "source": [
    "fig = plt.figure(figsize=(2,2), dpi=200)\n",
    "ax = plt.subplot(111)\n",
    "mylables = ['Male', 'Female']\n",
    "df['Gender'].value_counts().plot(kind='pie', ax=ax, autopct='%1.1f%%', startangle=270, labels =['Male', 'Female'], fontsize=10)"
   ]
  },
  {
   "cell_type": "markdown",
   "id": "4abf4091",
   "metadata": {},
   "source": [
    "According to our piechart male gender represents the higher proportion of bikeusers"
   ]
  },
  {
   "cell_type": "code",
   "execution_count": 46,
   "id": "34d39965",
   "metadata": {},
   "outputs": [
    {
     "data": {
      "text/html": [
       "<div>\n",
       "<style scoped>\n",
       "    .dataframe tbody tr th:only-of-type {\n",
       "        vertical-align: middle;\n",
       "    }\n",
       "\n",
       "    .dataframe tbody tr th {\n",
       "        vertical-align: top;\n",
       "    }\n",
       "\n",
       "    .dataframe thead th {\n",
       "        text-align: right;\n",
       "    }\n",
       "</style>\n",
       "<table border=\"1\" class=\"dataframe\">\n",
       "  <thead>\n",
       "    <tr style=\"text-align: right;\">\n",
       "      <th></th>\n",
       "      <th>Trip Duration</th>\n",
       "      <th>Start Station ID</th>\n",
       "      <th>End Station ID</th>\n",
       "      <th>Bike ID</th>\n",
       "      <th>Birth Year</th>\n",
       "      <th>Gender</th>\n",
       "      <th>Trip_Duration_in_min</th>\n",
       "      <th>Start Month</th>\n",
       "      <th>age</th>\n",
       "    </tr>\n",
       "  </thead>\n",
       "  <tbody>\n",
       "    <tr>\n",
       "      <th>count</th>\n",
       "      <td>3.116610e+05</td>\n",
       "      <td>311661.000000</td>\n",
       "      <td>311661.000000</td>\n",
       "      <td>311661.000000</td>\n",
       "      <td>311661.000000</td>\n",
       "      <td>311661.000000</td>\n",
       "      <td>311661.000000</td>\n",
       "      <td>311661.000000</td>\n",
       "      <td>311661.000000</td>\n",
       "    </tr>\n",
       "    <tr>\n",
       "      <th>mean</th>\n",
       "      <td>7.076408e+02</td>\n",
       "      <td>3206.963784</td>\n",
       "      <td>3203.733127</td>\n",
       "      <td>24917.565849</td>\n",
       "      <td>1979.230892</td>\n",
       "      <td>1.221568</td>\n",
       "      <td>11.792470</td>\n",
       "      <td>7.260199</td>\n",
       "      <td>36.737125</td>\n",
       "    </tr>\n",
       "    <tr>\n",
       "      <th>std</th>\n",
       "      <td>3.176175e+04</td>\n",
       "      <td>26.702044</td>\n",
       "      <td>57.970317</td>\n",
       "      <td>747.441037</td>\n",
       "      <td>9.547324</td>\n",
       "      <td>0.415302</td>\n",
       "      <td>529.361738</td>\n",
       "      <td>3.390410</td>\n",
       "      <td>9.549449</td>\n",
       "    </tr>\n",
       "    <tr>\n",
       "      <th>min</th>\n",
       "      <td>6.100000e+01</td>\n",
       "      <td>3183.000000</td>\n",
       "      <td>152.000000</td>\n",
       "      <td>14552.000000</td>\n",
       "      <td>1946.000000</td>\n",
       "      <td>1.000000</td>\n",
       "      <td>1.000000</td>\n",
       "      <td>1.000000</td>\n",
       "      <td>16.000000</td>\n",
       "    </tr>\n",
       "    <tr>\n",
       "      <th>25%</th>\n",
       "      <td>2.400000e+02</td>\n",
       "      <td>3186.000000</td>\n",
       "      <td>3186.000000</td>\n",
       "      <td>24486.000000</td>\n",
       "      <td>1974.000000</td>\n",
       "      <td>1.000000</td>\n",
       "      <td>4.000000</td>\n",
       "      <td>4.000000</td>\n",
       "      <td>30.000000</td>\n",
       "    </tr>\n",
       "    <tr>\n",
       "      <th>50%</th>\n",
       "      <td>3.660000e+02</td>\n",
       "      <td>3202.000000</td>\n",
       "      <td>3199.000000</td>\n",
       "      <td>24604.000000</td>\n",
       "      <td>1981.000000</td>\n",
       "      <td>1.000000</td>\n",
       "      <td>6.000000</td>\n",
       "      <td>8.000000</td>\n",
       "      <td>35.000000</td>\n",
       "    </tr>\n",
       "    <tr>\n",
       "      <th>75%</th>\n",
       "      <td>6.040000e+02</td>\n",
       "      <td>3211.000000</td>\n",
       "      <td>3211.000000</td>\n",
       "      <td>24713.000000</td>\n",
       "      <td>1986.000000</td>\n",
       "      <td>1.000000</td>\n",
       "      <td>10.000000</td>\n",
       "      <td>10.000000</td>\n",
       "      <td>42.000000</td>\n",
       "    </tr>\n",
       "    <tr>\n",
       "      <th>max</th>\n",
       "      <td>1.632981e+07</td>\n",
       "      <td>3426.000000</td>\n",
       "      <td>3426.000000</td>\n",
       "      <td>29296.000000</td>\n",
       "      <td>2000.000000</td>\n",
       "      <td>2.000000</td>\n",
       "      <td>272163.000000</td>\n",
       "      <td>12.000000</td>\n",
       "      <td>70.000000</td>\n",
       "    </tr>\n",
       "  </tbody>\n",
       "</table>\n",
       "</div>"
      ],
      "text/plain": [
       "       Trip Duration  Start Station ID  End Station ID        Bike ID  \\\n",
       "count   3.116610e+05     311661.000000   311661.000000  311661.000000   \n",
       "mean    7.076408e+02       3206.963784     3203.733127   24917.565849   \n",
       "std     3.176175e+04         26.702044       57.970317     747.441037   \n",
       "min     6.100000e+01       3183.000000      152.000000   14552.000000   \n",
       "25%     2.400000e+02       3186.000000     3186.000000   24486.000000   \n",
       "50%     3.660000e+02       3202.000000     3199.000000   24604.000000   \n",
       "75%     6.040000e+02       3211.000000     3211.000000   24713.000000   \n",
       "max     1.632981e+07       3426.000000     3426.000000   29296.000000   \n",
       "\n",
       "          Birth Year         Gender  Trip_Duration_in_min    Start Month  \\\n",
       "count  311661.000000  311661.000000         311661.000000  311661.000000   \n",
       "mean     1979.230892       1.221568             11.792470       7.260199   \n",
       "std         9.547324       0.415302            529.361738       3.390410   \n",
       "min      1946.000000       1.000000              1.000000       1.000000   \n",
       "25%      1974.000000       1.000000              4.000000       4.000000   \n",
       "50%      1981.000000       1.000000              6.000000       8.000000   \n",
       "75%      1986.000000       1.000000             10.000000      10.000000   \n",
       "max      2000.000000       2.000000         272163.000000      12.000000   \n",
       "\n",
       "                 age  \n",
       "count  311661.000000  \n",
       "mean       36.737125  \n",
       "std         9.549449  \n",
       "min        16.000000  \n",
       "25%        30.000000  \n",
       "50%        35.000000  \n",
       "75%        42.000000  \n",
       "max        70.000000  "
      ]
     },
     "execution_count": 46,
     "metadata": {},
     "output_type": "execute_result"
    }
   ],
   "source": [
    "df.describe()"
   ]
  },
  {
   "cell_type": "code",
   "execution_count": 47,
   "id": "73fc78a6",
   "metadata": {},
   "outputs": [],
   "source": [
    "from pandas.api.types import is_string_dtype\n",
    "from pandas.api.types import is_numeric_dtype"
   ]
  },
  {
   "cell_type": "code",
   "execution_count": 48,
   "id": "3e0271ea",
   "metadata": {},
   "outputs": [
    {
     "name": "stdout",
     "output_type": "stream",
     "text": [
      "['Trip Duration', 'Start Station ID', 'End Station ID', 'Bike ID', 'Birth Year', 'Gender', 'Trip_Duration_in_min', 'Start Month', 'age']\n",
      "['Start Station Name', 'End Station Name', 'User Type']\n"
     ]
    }
   ],
   "source": [
    "num_list = [] ##numerics\n",
    "cat_list =[]  ## categorical variables\n",
    "\n",
    "for column in df:\n",
    "    if is_numeric_dtype(df[column]):\n",
    "        num_list.append(column)\n",
    "    elif is_string_dtype(df[column]):\n",
    "        cat_list.append(column)\n",
    "        \n",
    "print(num_list)\n",
    "print(cat_list)"
   ]
  },
  {
   "cell_type": "code",
   "execution_count": 49,
   "id": "4bf8a147",
   "metadata": {},
   "outputs": [
    {
     "data": {
      "text/plain": [
       "<AxesSubplot:>"
      ]
     },
     "execution_count": 49,
     "metadata": {},
     "output_type": "execute_result"
    },
    {
     "data": {
      "image/png": "[encoded data removed]",
      "text/plain": [
       "<Figure size 432x288 with 1 Axes>"
      ]
     },
     "metadata": {
      "needs_background": "light"
     },
     "output_type": "display_data"
    }
   ],
   "source": [
    "df['User Type'].value_counts().plot(kind='bar')"
   ]
  },
  {
   "cell_type": "markdown",
   "id": "a42df8c5",
   "metadata": {},
   "source": [
    "### Almost all our bikeusers are  Subscribers while non-subscribers represent a very small proportion of bikeusers"
   ]
  },
  {
   "cell_type": "code",
   "execution_count": 50,
   "id": "5cb72ab0",
   "metadata": {
    "collapsed": true
   },
   "outputs": [
    {
     "data": {
      "image/png": "[encoded data removed]",
      "text/plain": [
       "<Figure size 432x288 with 1 Axes>"
      ]
     },
     "metadata": {
      "needs_background": "light"
     },
     "output_type": "display_data"
    },
    {
     "data": {
      "image/png": "[encoded data removed]",
      "text/plain": [
       "<Figure size 432x288 with 1 Axes>"
      ]
     },
     "metadata": {
      "needs_background": "light"
     },
     "output_type": "display_data"
    },
    {
     "data": {
      "image/png": "[encoded data removed]",
      "text/plain": [
       "<Figure size 432x288 with 1 Axes>"
      ]
     },
     "metadata": {
      "needs_background": "light"
     },
     "output_type": "display_data"
    },
    {
     "data": {
      "image/png": "[encoded data removed]",
      "text/plain": [
       "<Figure size 432x288 with 1 Axes>"
      ]
     },
     "metadata": {
      "needs_background": "light"
     },
     "output_type": "display_data"
    },
    {
     "data": {
      "image/png": "[encoded data removed]",
      "text/plain": [
       "<Figure size 432x288 with 1 Axes>"
      ]
     },
     "metadata": {
      "needs_background": "light"
     },
     "output_type": "display_data"
    },
    {
     "data": {
      "image/png": "[encoded data removed]",
      "text/plain": [
       "<Figure size 432x288 with 1 Axes>"
      ]
     },
     "metadata": {
      "needs_background": "light"
     },
     "output_type": "display_data"
    },
    {
     "data": {
      "image/png": "[encoded data removed]",
      "text/plain": [
       "<Figure size 432x288 with 1 Axes>"
      ]
     },
     "metadata": {
      "needs_background": "light"
     },
     "output_type": "display_data"
    },
    {
     "data": {
      "image/png": "[encoded data removed]",
      "text/plain": [
       "<Figure size 432x288 with 1 Axes>"
      ]
     },
     "metadata": {
      "needs_background": "light"
     },
     "output_type": "display_data"
    },
    {
     "data": {
      "image/png": "[encoded data removed]",
      "text/plain": [
       "<Figure size 432x288 with 1 Axes>"
      ]
     },
     "metadata": {
      "needs_background": "light"
     },
     "output_type": "display_data"
    },
    {
     "data": {
      "image/png": "[encoded data removed]",
      "text/plain": [
       "<Figure size 432x288 with 1 Axes>"
      ]
     },
     "metadata": {
      "needs_background": "light"
     },
     "output_type": "display_data"
    },
    {
     "data": {
      "image/png": "[encoded data removed]",
      "text/plain": [
       "<Figure size 432x288 with 1 Axes>"
      ]
     },
     "metadata": {
      "needs_background": "light"
     },
     "output_type": "display_data"
    },
    {
     "data": {
      "image/png": "[encoded data removed]",
      "text/plain": [
       "<Figure size 432x288 with 1 Axes>"
      ]
     },
     "metadata": {
      "needs_background": "light"
     },
     "output_type": "display_data"
    },
    {
     "data": {
      "image/png": "[encoded data removed]",
      "text/plain": [
       "<Figure size 432x288 with 1 Axes>"
      ]
     },
     "metadata": {
      "needs_background": "light"
     },
     "output_type": "display_data"
    },
    {
     "data": {
      "image/png": "[encoded data removed]",
      "text/plain": [
       "<Figure size 432x288 with 1 Axes>"
      ]
     },
     "metadata": {
      "needs_background": "light"
     },
     "output_type": "display_data"
    }
   ],
   "source": [
    "for column in df:\n",
    "    plt.figure(column)\n",
    "    plt.title(column)\n",
    "    if is_numeric_dtype(df[column]):\n",
    "        df[column].plot(kind='hist')\n",
    "    "
   ]
  },
  {
   "cell_type": "code",
   "execution_count": 51,
   "id": "ccdd9422",
   "metadata": {},
   "outputs": [],
   "source": [
    "import seaborn as sns"
   ]
  },
  {
   "cell_type": "code",
   "execution_count": 53,
   "id": "e643aa7e",
   "metadata": {},
   "outputs": [
    {
     "data": {
      "text/plain": [
       "<seaborn.axisgrid.FacetGrid at 0x16c91fb2a00>"
      ]
     },
     "execution_count": 53,
     "metadata": {},
     "output_type": "execute_result"
    },
    {
     "data": {
      "image/png": "[encoded data removed]",
      "text/plain": [
       "<Figure size 360x360 with 1 Axes>"
      ]
     },
     "metadata": {
      "needs_background": "light"
     },
     "output_type": "display_data"
    }
   ],
   "source": [
    "sns.displot(df['Birth Year'], kde=True)"
   ]
  },
  {
   "cell_type": "code",
   "execution_count": 81,
   "id": "631875a3",
   "metadata": {},
   "outputs": [],
   "source": [
    "df['Hour'] = df['Start Time'].dt.hour"
   ]
  },
  {
   "cell_type": "code",
   "execution_count": 83,
   "id": "661a3575",
   "metadata": {
    "collapsed": true
   },
   "outputs": [
    {
     "data": {
      "text/plain": [
       "8     38989\n",
       "18    31223\n",
       "17    27938\n",
       "19    22882\n",
       "7     22034\n",
       "9     19362\n",
       "20    16228\n",
       "16    16021\n",
       "13    12860\n",
       "15    12805\n",
       "12    12714\n",
       "14    12354\n",
       "10    12035\n",
       "21    11373\n",
       "11    11018\n",
       "6      9024\n",
       "22     8035\n",
       "23     4858\n",
       "0      3146\n",
       "5      2900\n",
       "1      1600\n",
       "2       937\n",
       "4       752\n",
       "3       573\n",
       "Name: Hour, dtype: int64"
      ]
     },
     "execution_count": 83,
     "metadata": {},
     "output_type": "execute_result"
    }
   ],
   "source": [
    "df['Hour'].value_counts()"
   ]
  },
  {
   "cell_type": "code",
   "execution_count": 84,
   "id": "768c9e8b",
   "metadata": {},
   "outputs": [
    {
     "data": {
      "text/plain": [
       "<AxesSubplot:>"
      ]
     },
     "execution_count": 84,
     "metadata": {},
     "output_type": "execute_result"
    },
    {
     "data": {
      "image/png": "[encoded data removed]",
      "text/plain": [
       "<Figure size 432x288 with 1 Axes>"
      ]
     },
     "metadata": {
      "needs_background": "light"
     },
     "output_type": "display_data"
    }
   ],
   "source": [
    "sns.barplot(x = df['Hour'].value_counts().index,\n",
    "           y = df['Hour'].value_counts().values)"
   ]
  },
  {
   "cell_type": "markdown",
   "id": "442fd9d8",
   "metadata": {},
   "source": [
    "### Based on the above analysis peak hours are between 7am to 9am and 5pm to 7pm"
   ]
  },
  {
   "cell_type": "code",
   "execution_count": 54,
   "id": "d243bcce",
   "metadata": {},
   "outputs": [
    {
     "data": {
      "text/plain": [
       "<AxesSubplot:xlabel='Start Month', ylabel='Count'>"
      ]
     },
     "execution_count": 54,
     "metadata": {},
     "output_type": "execute_result"
    },
    {
     "data": {
      "image/png": "[encoded data removed]",
      "text/plain": [
       "<Figure size 432x288 with 1 Axes>"
      ]
     },
     "metadata": {
      "needs_background": "light"
     },
     "output_type": "display_data"
    }
   ],
   "source": [
    "sns.histplot(df['Start Month'], bins=12)"
   ]
  },
  {
   "cell_type": "markdown",
   "id": "06755157",
   "metadata": {},
   "source": [
    "#### TOP busy months:\n",
    "1 October\n",
    "2 March"
   ]
  },
  {
   "cell_type": "code",
   "execution_count": 55,
   "id": "35335b42",
   "metadata": {},
   "outputs": [
    {
     "data": {
      "text/plain": [
       "<seaborn.axisgrid.FacetGrid at 0x16c9139beb0>"
      ]
     },
     "execution_count": 55,
     "metadata": {},
     "output_type": "execute_result"
    },
    {
     "data": {
      "image/png": "[encoded data removed]",
      "text/plain": [
       "<Figure size 360x360 with 1 Axes>"
      ]
     },
     "metadata": {
      "needs_background": "light"
     },
     "output_type": "display_data"
    }
   ],
   "source": [
    "sns.displot(df['age'])"
   ]
  },
  {
   "cell_type": "code",
   "execution_count": 56,
   "id": "91b749fc",
   "metadata": {},
   "outputs": [
    {
     "data": {
      "text/plain": [
       "<AxesSubplot:xlabel='age', ylabel='Count'>"
      ]
     },
     "execution_count": 56,
     "metadata": {},
     "output_type": "execute_result"
    },
    {
     "data": {
      "image/png": "[encoded data removed]",
      "text/plain": [
       "<Figure size 432x288 with 1 Axes>"
      ]
     },
     "metadata": {
      "needs_background": "light"
     },
     "output_type": "display_data"
    }
   ],
   "source": [
    "sns.histplot(df['age'], bins=30, kde=True)"
   ]
  },
  {
   "cell_type": "markdown",
   "id": "f0cb36d2",
   "metadata": {},
   "source": [
    "#### Most of our bikeusers are around  age  30 to 40yrs"
   ]
  },
  {
   "cell_type": "code",
   "execution_count": 57,
   "id": "25b9f73a",
   "metadata": {},
   "outputs": [
    {
     "data": {
      "text/plain": [
       "4       44057\n",
       "5       37582\n",
       "3       35545\n",
       "6       29222\n",
       "7       22518\n",
       "        ...  \n",
       "892         1\n",
       "380         1\n",
       "1147        1\n",
       "635         1\n",
       "372         1\n",
       "Name: Trip_Duration_in_min, Length: 600, dtype: int64"
      ]
     },
     "execution_count": 57,
     "metadata": {},
     "output_type": "execute_result"
    }
   ],
   "source": [
    "df['Trip_Duration_in_min'].value_counts()"
   ]
  },
  {
   "cell_type": "code",
   "execution_count": 58,
   "id": "c4a003f3",
   "metadata": {},
   "outputs": [
    {
     "name": "stdout",
     "output_type": "stream",
     "text": [
      "['Trip Duration', 'Start Station ID', 'End Station ID', 'Bike ID', 'Birth Year', 'Gender', 'Trip_Duration_in_min', 'Start Month', 'age']\n"
     ]
    }
   ],
   "source": [
    "print(num_list)"
   ]
  },
  {
   "cell_type": "code",
   "execution_count": null,
   "id": "421abe76",
   "metadata": {},
   "outputs": [],
   "source": []
  },
  {
   "cell_type": "code",
   "execution_count": 59,
   "id": "c23d6fc4",
   "metadata": {},
   "outputs": [
    {
     "data": {
      "text/html": [
       "<div>\n",
       "<style scoped>\n",
       "    .dataframe tbody tr th:only-of-type {\n",
       "        vertical-align: middle;\n",
       "    }\n",
       "\n",
       "    .dataframe tbody tr th {\n",
       "        vertical-align: top;\n",
       "    }\n",
       "\n",
       "    .dataframe thead th {\n",
       "        text-align: right;\n",
       "    }\n",
       "</style>\n",
       "<table border=\"1\" class=\"dataframe\">\n",
       "  <thead>\n",
       "    <tr style=\"text-align: right;\">\n",
       "      <th></th>\n",
       "      <th>Trip Duration</th>\n",
       "      <th>Start Station ID</th>\n",
       "      <th>End Station ID</th>\n",
       "      <th>Bike ID</th>\n",
       "      <th>Birth Year</th>\n",
       "      <th>Gender</th>\n",
       "      <th>Trip_Duration_in_min</th>\n",
       "      <th>Start Month</th>\n",
       "      <th>age</th>\n",
       "    </tr>\n",
       "  </thead>\n",
       "  <tbody>\n",
       "    <tr>\n",
       "      <th>Trip Duration</th>\n",
       "      <td>1.000000</td>\n",
       "      <td>0.000416</td>\n",
       "      <td>0.002673</td>\n",
       "      <td>-0.002042</td>\n",
       "      <td>-0.001559</td>\n",
       "      <td>-0.000050</td>\n",
       "      <td>1.000000</td>\n",
       "      <td>-0.002466</td>\n",
       "      <td>0.001517</td>\n",
       "    </tr>\n",
       "    <tr>\n",
       "      <th>Start Station ID</th>\n",
       "      <td>0.000416</td>\n",
       "      <td>1.000000</td>\n",
       "      <td>-0.034204</td>\n",
       "      <td>0.131131</td>\n",
       "      <td>0.005149</td>\n",
       "      <td>0.030974</td>\n",
       "      <td>0.000415</td>\n",
       "      <td>0.051407</td>\n",
       "      <td>0.003994</td>\n",
       "    </tr>\n",
       "    <tr>\n",
       "      <th>End Station ID</th>\n",
       "      <td>0.002673</td>\n",
       "      <td>-0.034204</td>\n",
       "      <td>1.000000</td>\n",
       "      <td>0.051610</td>\n",
       "      <td>0.008076</td>\n",
       "      <td>0.009291</td>\n",
       "      <td>0.002673</td>\n",
       "      <td>0.017452</td>\n",
       "      <td>-0.004344</td>\n",
       "    </tr>\n",
       "    <tr>\n",
       "      <th>Bike ID</th>\n",
       "      <td>-0.002042</td>\n",
       "      <td>0.131131</td>\n",
       "      <td>0.051610</td>\n",
       "      <td>1.000000</td>\n",
       "      <td>0.020730</td>\n",
       "      <td>-0.014178</td>\n",
       "      <td>-0.002042</td>\n",
       "      <td>0.092243</td>\n",
       "      <td>-0.006910</td>\n",
       "    </tr>\n",
       "    <tr>\n",
       "      <th>Birth Year</th>\n",
       "      <td>-0.001559</td>\n",
       "      <td>0.005149</td>\n",
       "      <td>0.008076</td>\n",
       "      <td>0.020730</td>\n",
       "      <td>1.000000</td>\n",
       "      <td>0.078869</td>\n",
       "      <td>-0.001559</td>\n",
       "      <td>-0.004350</td>\n",
       "      <td>-0.998524</td>\n",
       "    </tr>\n",
       "    <tr>\n",
       "      <th>Gender</th>\n",
       "      <td>-0.000050</td>\n",
       "      <td>0.030974</td>\n",
       "      <td>0.009291</td>\n",
       "      <td>-0.014178</td>\n",
       "      <td>0.078869</td>\n",
       "      <td>1.000000</td>\n",
       "      <td>-0.000049</td>\n",
       "      <td>0.021893</td>\n",
       "      <td>-0.079961</td>\n",
       "    </tr>\n",
       "    <tr>\n",
       "      <th>Trip_Duration_in_min</th>\n",
       "      <td>1.000000</td>\n",
       "      <td>0.000415</td>\n",
       "      <td>0.002673</td>\n",
       "      <td>-0.002042</td>\n",
       "      <td>-0.001559</td>\n",
       "      <td>-0.000049</td>\n",
       "      <td>1.000000</td>\n",
       "      <td>-0.002466</td>\n",
       "      <td>0.001517</td>\n",
       "    </tr>\n",
       "    <tr>\n",
       "      <th>Start Month</th>\n",
       "      <td>-0.002466</td>\n",
       "      <td>0.051407</td>\n",
       "      <td>0.017452</td>\n",
       "      <td>0.092243</td>\n",
       "      <td>-0.004350</td>\n",
       "      <td>0.021893</td>\n",
       "      <td>-0.002466</td>\n",
       "      <td>1.000000</td>\n",
       "      <td>-0.030922</td>\n",
       "    </tr>\n",
       "    <tr>\n",
       "      <th>age</th>\n",
       "      <td>0.001517</td>\n",
       "      <td>0.003994</td>\n",
       "      <td>-0.004344</td>\n",
       "      <td>-0.006910</td>\n",
       "      <td>-0.998524</td>\n",
       "      <td>-0.079961</td>\n",
       "      <td>0.001517</td>\n",
       "      <td>-0.030922</td>\n",
       "      <td>1.000000</td>\n",
       "    </tr>\n",
       "  </tbody>\n",
       "</table>\n",
       "</div>"
      ],
      "text/plain": [
       "                      Trip Duration  Start Station ID  End Station ID  \\\n",
       "Trip Duration              1.000000          0.000416        0.002673   \n",
       "Start Station ID           0.000416          1.000000       -0.034204   \n",
       "End Station ID             0.002673         -0.034204        1.000000   \n",
       "Bike ID                   -0.002042          0.131131        0.051610   \n",
       "Birth Year                -0.001559          0.005149        0.008076   \n",
       "Gender                    -0.000050          0.030974        0.009291   \n",
       "Trip_Duration_in_min       1.000000          0.000415        0.002673   \n",
       "Start Month               -0.002466          0.051407        0.017452   \n",
       "age                        0.001517          0.003994       -0.004344   \n",
       "\n",
       "                       Bike ID  Birth Year    Gender  Trip_Duration_in_min  \\\n",
       "Trip Duration        -0.002042   -0.001559 -0.000050              1.000000   \n",
       "Start Station ID      0.131131    0.005149  0.030974              0.000415   \n",
       "End Station ID        0.051610    0.008076  0.009291              0.002673   \n",
       "Bike ID               1.000000    0.020730 -0.014178             -0.002042   \n",
       "Birth Year            0.020730    1.000000  0.078869             -0.001559   \n",
       "Gender               -0.014178    0.078869  1.000000             -0.000049   \n",
       "Trip_Duration_in_min -0.002042   -0.001559 -0.000049              1.000000   \n",
       "Start Month           0.092243   -0.004350  0.021893             -0.002466   \n",
       "age                  -0.006910   -0.998524 -0.079961              0.001517   \n",
       "\n",
       "                      Start Month       age  \n",
       "Trip Duration           -0.002466  0.001517  \n",
       "Start Station ID         0.051407  0.003994  \n",
       "End Station ID           0.017452 -0.004344  \n",
       "Bike ID                  0.092243 -0.006910  \n",
       "Birth Year              -0.004350 -0.998524  \n",
       "Gender                   0.021893 -0.079961  \n",
       "Trip_Duration_in_min    -0.002466  0.001517  \n",
       "Start Month              1.000000 -0.030922  \n",
       "age                     -0.030922  1.000000  "
      ]
     },
     "execution_count": 59,
     "metadata": {},
     "output_type": "execute_result"
    }
   ],
   "source": [
    "df.corr()"
   ]
  },
  {
   "cell_type": "code",
   "execution_count": 60,
   "id": "8f0b4579",
   "metadata": {},
   "outputs": [
    {
     "data": {
      "text/plain": [
       "<AxesSubplot:xlabel='age', ylabel='Trip Duration'>"
      ]
     },
     "execution_count": 60,
     "metadata": {},
     "output_type": "execute_result"
    },
    {
     "data": {
      "image/png": "[encoded data removed]",
      "text/plain": [
       "<Figure size 432x288 with 1 Axes>"
      ]
     },
     "metadata": {
      "needs_background": "light"
     },
     "output_type": "display_data"
    }
   ],
   "source": [
    "sns.scatterplot(x='age', y='Trip Duration', data=df)"
   ]
  },
  {
   "cell_type": "markdown",
   "id": "a074738b",
   "metadata": {},
   "source": [
    "#### No relationship between trip duration and age of rider"
   ]
  },
  {
   "cell_type": "code",
   "execution_count": 62,
   "id": "1f650dcf",
   "metadata": {},
   "outputs": [
    {
     "data": {
      "image/png": "[encoded data removed]",
      "text/plain": [
       "<Figure size 1152x360 with 2 Axes>"
      ]
     },
     "metadata": {
      "needs_background": "light"
     },
     "output_type": "display_data"
    }
   ],
   "source": [
    "plt.figure(figsize=(16, 5))\n",
    "ax = sns.heatmap(df.corr(), annot=True, cmap='YlGnBu')"
   ]
  },
  {
   "cell_type": "markdown",
   "id": "11ad80d8",
   "metadata": {},
   "source": [
    "### Average Trip Duration based on User Type"
   ]
  },
  {
   "cell_type": "code",
   "execution_count": 66,
   "id": "fee44593",
   "metadata": {},
   "outputs": [
    {
     "data": {
      "text/html": [
       "<div>\n",
       "<style scoped>\n",
       "    .dataframe tbody tr th:only-of-type {\n",
       "        vertical-align: middle;\n",
       "    }\n",
       "\n",
       "    .dataframe tbody tr th {\n",
       "        vertical-align: top;\n",
       "    }\n",
       "\n",
       "    .dataframe thead th {\n",
       "        text-align: right;\n",
       "    }\n",
       "</style>\n",
       "<table border=\"1\" class=\"dataframe\">\n",
       "  <thead>\n",
       "    <tr style=\"text-align: right;\">\n",
       "      <th></th>\n",
       "      <th>User Type</th>\n",
       "      <th>Avg. Trip Duration</th>\n",
       "    </tr>\n",
       "  </thead>\n",
       "  <tbody>\n",
       "    <tr>\n",
       "      <th>0</th>\n",
       "      <td>Customer</td>\n",
       "      <td>1865.0</td>\n",
       "    </tr>\n",
       "    <tr>\n",
       "      <th>1</th>\n",
       "      <td>Subscriber</td>\n",
       "      <td>707.0</td>\n",
       "    </tr>\n",
       "  </tbody>\n",
       "</table>\n",
       "</div>"
      ],
      "text/plain": [
       "    User Type  Avg. Trip Duration\n",
       "0    Customer              1865.0\n",
       "1  Subscriber               707.0"
      ]
     },
     "execution_count": 66,
     "metadata": {},
     "output_type": "execute_result"
    }
   ],
   "source": [
    "User = pd.DataFrame()\n",
    "User['Avg. Trip Duration'] = round(df.groupby('User Type')['Trip Duration'].mean())\n",
    "User = User.reset_index()\n",
    "User['User Type'] = User['User Type'].astype('object')\n",
    "User"
   ]
  },
  {
   "cell_type": "markdown",
   "id": "1617de96",
   "metadata": {},
   "source": [
    "### Visualization of Average Duration by User Type"
   ]
  },
  {
   "cell_type": "code",
   "execution_count": 67,
   "id": "30d0762b",
   "metadata": {},
   "outputs": [
    {
     "name": "stderr",
     "output_type": "stream",
     "text": [
      "C:\\ProgramData\\Anaconda3\\lib\\site-packages\\seaborn\\_decorators.py:36: FutureWarning: Pass the following variables as keyword args: x, y. From version 0.12, the only valid positional argument will be `data`, and passing other arguments without an explicit keyword will result in an error or misinterpretation.\n",
      "  warnings.warn(\n"
     ]
    },
    {
     "data": {
      "image/png": "[encoded data removed]",
      "text/plain": [
       "<Figure size 432x288 with 1 Axes>"
      ]
     },
     "metadata": {
      "needs_background": "light"
     },
     "output_type": "display_data"
    }
   ],
   "source": [
    "ax1 = sns.barplot('User Type', 'Avg. Trip Duration', data = User)\n",
    "ax1.set_title('Average Trip Duration BY User Type')\n",
    "ax1.set_ylabel('Avg Trip Duration in Seconds')\n",
    "plt.show()"
   ]
  },
  {
   "cell_type": "code",
   "execution_count": 70,
   "id": "f80eb7b5",
   "metadata": {},
   "outputs": [
    {
     "data": {
      "text/plain": [
       "Gender\n",
       "1    37.144505\n",
       "2    35.305877\n",
       "Name: age, dtype: float64"
      ]
     },
     "execution_count": 70,
     "metadata": {},
     "output_type": "execute_result"
    }
   ],
   "source": [
    "grouped_gender = df.groupby('Gender')['age'].mean()\n",
    "grouped_gender"
   ]
  },
  {
   "cell_type": "code",
   "execution_count": 71,
   "id": "ee43f85f",
   "metadata": {},
   "outputs": [],
   "source": [
    "grouped = df.groupby('Gender')['User Type'].count()"
   ]
  },
  {
   "cell_type": "code",
   "execution_count": 72,
   "id": "079ee32b",
   "metadata": {},
   "outputs": [
    {
     "data": {
      "text/plain": [
       "Gender\n",
       "1    242607\n",
       "2     69054\n",
       "Name: User Type, dtype: int64"
      ]
     },
     "execution_count": 72,
     "metadata": {},
     "output_type": "execute_result"
    }
   ],
   "source": [
    "grouped"
   ]
  },
  {
   "cell_type": "code",
   "execution_count": 74,
   "id": "ad0f56c2",
   "metadata": {},
   "outputs": [
    {
     "data": {
      "text/plain": [
       "Subscriber    311607\n",
       "Customer          54\n",
       "Name: User Type, dtype: int64"
      ]
     },
     "execution_count": 74,
     "metadata": {},
     "output_type": "execute_result"
    }
   ],
   "source": [
    "df['User Type'].value_counts()"
   ]
  },
  {
   "cell_type": "markdown",
   "id": "26fe691f",
   "metadata": {},
   "source": [
    "## Most Used Stations and Least Used Stations"
   ]
  },
  {
   "cell_type": "code",
   "execution_count": 92,
   "id": "313433c5",
   "metadata": {},
   "outputs": [
    {
     "data": {
      "image/png": "[encoded data removed]",
      "text/plain": [
       "<Figure size 1440x432 with 1 Axes>"
      ]
     },
     "metadata": {
      "needs_background": "light"
     },
     "output_type": "display_data"
    }
   ],
   "source": [
    "plt.figure(figsize = (20, 6))\n",
    "ax = sns.barplot(x = df['Start Station Name'].value_counts().index,\n",
    "       y = df['Start Station Name'].value_counts().values)\n",
    "ax.set_xticklabels(ax.get_xticklabels(), rotation=40, ha=\"right\")\n",
    "plt.show()"
   ]
  },
  {
   "cell_type": "code",
   "execution_count": 94,
   "id": "1e47784b",
   "metadata": {},
   "outputs": [
    {
     "data": {
      "image/png": "[encoded data removed]",
      "text/plain": [
       "<Figure size 1440x432 with 1 Axes>"
      ]
     },
     "metadata": {
      "needs_background": "light"
     },
     "output_type": "display_data"
    }
   ],
   "source": [
    "plt.figure(figsize=(20, 6))\n",
    "ax3 = sns.barplot(x = df['End Station Name'].value_counts().index,\n",
    "                 y = df['End Station Name'].value_counts().values)\n",
    "ax3.set_xticklabels(ax3.get_xticklabels(), rotation = 50, ha = 'right')\n",
    "plt.show()"
   ]
  },
  {
   "cell_type": "markdown",
   "id": "4f09f0f2",
   "metadata": {},
   "source": [
    "### Grove St Path is the most used station while JCBS Depot is the least used"
   ]
  },
  {
   "cell_type": "code",
   "execution_count": null,
   "id": "7f954a4e",
   "metadata": {},
   "outputs": [],
   "source": []
  }
 ],
 "metadata": {
  "kernelspec": {
   "display_name": "Python 3",
   "language": "python",
   "name": "python3"
  },
  "language_info": {
   "codemirror_mode": {
    "name": "ipython",
    "version": 3
   },
   "file_extension": ".py",
   "mimetype": "text/x-python",
   "name": "python",
   "nbconvert_exporter": "python",
   "pygments_lexer": "ipython3",
   "version": "3.8.8"
  }
 },
 "nbformat": 4,
 "nbformat_minor": 5
}
